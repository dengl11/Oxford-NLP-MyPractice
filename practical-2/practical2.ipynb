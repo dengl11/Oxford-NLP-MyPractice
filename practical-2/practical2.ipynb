{
 "cells": [
  {
   "cell_type": "markdown",
   "metadata": {},
   "source": [
    "## Practical 2: Text Classification"
   ]
  },
  {
   "cell_type": "code",
   "execution_count": 2,
   "metadata": {},
   "outputs": [
    {
     "data": {
      "text/html": [
       "\n",
       "    <div class=\"bk-root\">\n",
       "        <a href=\"https://bokeh.pydata.org\" target=\"_blank\" class=\"bk-logo bk-logo-small bk-logo-notebook\"></a>\n",
       "        <span id=\"065005f6-fd5d-4807-9f8d-a98e87451435\">Loading BokehJS ...</span>\n",
       "    </div>"
      ]
     },
     "metadata": {},
     "output_type": "display_data"
    },
    {
     "data": {
      "application/javascript": [
       "\n",
       "(function(root) {\n",
       "  function now() {\n",
       "    return new Date();\n",
       "  }\n",
       "\n",
       "  var force = true;\n",
       "\n",
       "  if (typeof (root._bokeh_onload_callbacks) === \"undefined\" || force === true) {\n",
       "    root._bokeh_onload_callbacks = [];\n",
       "    root._bokeh_is_loading = undefined;\n",
       "  }\n",
       "\n",
       "  var JS_MIME_TYPE = 'application/javascript';\n",
       "  var HTML_MIME_TYPE = 'text/html';\n",
       "  var EXEC_MIME_TYPE = 'application/vnd.bokehjs_exec.v0+json';\n",
       "  var CLASS_NAME = 'output_bokeh rendered_html';\n",
       "\n",
       "  /**\n",
       "   * Render data to the DOM node\n",
       "   */\n",
       "  function render(props, node) {\n",
       "    var script = document.createElement(\"script\");\n",
       "    node.appendChild(script);\n",
       "  }\n",
       "\n",
       "  /**\n",
       "   * Handle when an output is cleared or removed\n",
       "   */\n",
       "  function handleClearOutput(event, handle) {\n",
       "    var cell = handle.cell;\n",
       "\n",
       "    var id = cell.output_area._bokeh_element_id;\n",
       "    var server_id = cell.output_area._bokeh_server_id;\n",
       "    // Clean up Bokeh references\n",
       "    if (id !== undefined) {\n",
       "      Bokeh.index[id].model.document.clear();\n",
       "      delete Bokeh.index[id];\n",
       "    }\n",
       "\n",
       "    if (server_id !== undefined) {\n",
       "      // Clean up Bokeh references\n",
       "      var cmd = \"from bokeh.io.state import curstate; print(curstate().uuid_to_server['\" + server_id + \"'].get_sessions()[0].document.roots[0]._id)\";\n",
       "      cell.notebook.kernel.execute(cmd, {\n",
       "        iopub: {\n",
       "          output: function(msg) {\n",
       "            var element_id = msg.content.text.trim();\n",
       "            Bokeh.index[element_id].model.document.clear();\n",
       "            delete Bokeh.index[element_id];\n",
       "          }\n",
       "        }\n",
       "      });\n",
       "      // Destroy server and session\n",
       "      var cmd = \"import bokeh.io.notebook as ion; ion.destroy_server('\" + server_id + \"')\";\n",
       "      cell.notebook.kernel.execute(cmd);\n",
       "    }\n",
       "  }\n",
       "\n",
       "  /**\n",
       "   * Handle when a new output is added\n",
       "   */\n",
       "  function handleAddOutput(event, handle) {\n",
       "    var output_area = handle.output_area;\n",
       "    var output = handle.output;\n",
       "\n",
       "    // limit handleAddOutput to display_data with EXEC_MIME_TYPE content only\n",
       "    if ((output.output_type != \"display_data\") || (!output.data.hasOwnProperty(EXEC_MIME_TYPE))) {\n",
       "      return\n",
       "    }\n",
       "\n",
       "    var toinsert = output_area.element.find(\".\" + CLASS_NAME.split(' ')[0]);\n",
       "\n",
       "    if (output.metadata[EXEC_MIME_TYPE][\"id\"] !== undefined) {\n",
       "      toinsert[0].firstChild.textContent = output.data[JS_MIME_TYPE];\n",
       "      // store reference to embed id on output_area\n",
       "      output_area._bokeh_element_id = output.metadata[EXEC_MIME_TYPE][\"id\"];\n",
       "    }\n",
       "    if (output.metadata[EXEC_MIME_TYPE][\"server_id\"] !== undefined) {\n",
       "      var bk_div = document.createElement(\"div\");\n",
       "      bk_div.innerHTML = output.data[HTML_MIME_TYPE];\n",
       "      var script_attrs = bk_div.children[0].attributes;\n",
       "      for (var i = 0; i < script_attrs.length; i++) {\n",
       "        toinsert[0].firstChild.setAttribute(script_attrs[i].name, script_attrs[i].value);\n",
       "      }\n",
       "      // store reference to server id on output_area\n",
       "      output_area._bokeh_server_id = output.metadata[EXEC_MIME_TYPE][\"server_id\"];\n",
       "    }\n",
       "  }\n",
       "\n",
       "  function register_renderer(events, OutputArea) {\n",
       "\n",
       "    function append_mime(data, metadata, element) {\n",
       "      // create a DOM node to render to\n",
       "      var toinsert = this.create_output_subarea(\n",
       "        metadata,\n",
       "        CLASS_NAME,\n",
       "        EXEC_MIME_TYPE\n",
       "      );\n",
       "      this.keyboard_manager.register_events(toinsert);\n",
       "      // Render to node\n",
       "      var props = {data: data, metadata: metadata[EXEC_MIME_TYPE]};\n",
       "      render(props, toinsert[0]);\n",
       "      element.append(toinsert);\n",
       "      return toinsert\n",
       "    }\n",
       "\n",
       "    /* Handle when an output is cleared or removed */\n",
       "    events.on('clear_output.CodeCell', handleClearOutput);\n",
       "    events.on('delete.Cell', handleClearOutput);\n",
       "\n",
       "    /* Handle when a new output is added */\n",
       "    events.on('output_added.OutputArea', handleAddOutput);\n",
       "\n",
       "    /**\n",
       "     * Register the mime type and append_mime function with output_area\n",
       "     */\n",
       "    OutputArea.prototype.register_mime_type(EXEC_MIME_TYPE, append_mime, {\n",
       "      /* Is output safe? */\n",
       "      safe: true,\n",
       "      /* Index of renderer in `output_area.display_order` */\n",
       "      index: 0\n",
       "    });\n",
       "  }\n",
       "\n",
       "  // register the mime type if in Jupyter Notebook environment and previously unregistered\n",
       "  if (root.Jupyter !== undefined) {\n",
       "    var events = require('base/js/events');\n",
       "    var OutputArea = require('notebook/js/outputarea').OutputArea;\n",
       "\n",
       "    if (OutputArea.prototype.mime_types().indexOf(EXEC_MIME_TYPE) == -1) {\n",
       "      register_renderer(events, OutputArea);\n",
       "    }\n",
       "  }\n",
       "\n",
       "  \n",
       "  if (typeof (root._bokeh_timeout) === \"undefined\" || force === true) {\n",
       "    root._bokeh_timeout = Date.now() + 5000;\n",
       "    root._bokeh_failed_load = false;\n",
       "  }\n",
       "\n",
       "  var NB_LOAD_WARNING = {'data': {'text/html':\n",
       "     \"<div style='background-color: #fdd'>\\n\"+\n",
       "     \"<p>\\n\"+\n",
       "     \"BokehJS does not appear to have successfully loaded. If loading BokehJS from CDN, this \\n\"+\n",
       "     \"may be due to a slow or bad network connection. Possible fixes:\\n\"+\n",
       "     \"</p>\\n\"+\n",
       "     \"<ul>\\n\"+\n",
       "     \"<li>re-rerun `output_notebook()` to attempt to load from CDN again, or</li>\\n\"+\n",
       "     \"<li>use INLINE resources instead, as so:</li>\\n\"+\n",
       "     \"</ul>\\n\"+\n",
       "     \"<code>\\n\"+\n",
       "     \"from bokeh.resources import INLINE\\n\"+\n",
       "     \"output_notebook(resources=INLINE)\\n\"+\n",
       "     \"</code>\\n\"+\n",
       "     \"</div>\"}};\n",
       "\n",
       "  function display_loaded() {\n",
       "    var el = document.getElementById(\"065005f6-fd5d-4807-9f8d-a98e87451435\");\n",
       "    if (el != null) {\n",
       "      el.textContent = \"BokehJS is loading...\";\n",
       "    }\n",
       "    if (root.Bokeh !== undefined) {\n",
       "      if (el != null) {\n",
       "        el.textContent = \"BokehJS \" + root.Bokeh.version + \" successfully loaded.\";\n",
       "      }\n",
       "    } else if (Date.now() < root._bokeh_timeout) {\n",
       "      setTimeout(display_loaded, 100)\n",
       "    }\n",
       "  }\n",
       "\n",
       "\n",
       "  function run_callbacks() {\n",
       "    try {\n",
       "      root._bokeh_onload_callbacks.forEach(function(callback) { callback() });\n",
       "    }\n",
       "    finally {\n",
       "      delete root._bokeh_onload_callbacks\n",
       "    }\n",
       "    console.info(\"Bokeh: all callbacks have finished\");\n",
       "  }\n",
       "\n",
       "  function load_libs(js_urls, callback) {\n",
       "    root._bokeh_onload_callbacks.push(callback);\n",
       "    if (root._bokeh_is_loading > 0) {\n",
       "      console.log(\"Bokeh: BokehJS is being loaded, scheduling callback at\", now());\n",
       "      return null;\n",
       "    }\n",
       "    if (js_urls == null || js_urls.length === 0) {\n",
       "      run_callbacks();\n",
       "      return null;\n",
       "    }\n",
       "    console.log(\"Bokeh: BokehJS not loaded, scheduling load and callback at\", now());\n",
       "    root._bokeh_is_loading = js_urls.length;\n",
       "    for (var i = 0; i < js_urls.length; i++) {\n",
       "      var url = js_urls[i];\n",
       "      var s = document.createElement('script');\n",
       "      s.src = url;\n",
       "      s.async = false;\n",
       "      s.onreadystatechange = s.onload = function() {\n",
       "        root._bokeh_is_loading--;\n",
       "        if (root._bokeh_is_loading === 0) {\n",
       "          console.log(\"Bokeh: all BokehJS libraries loaded\");\n",
       "          run_callbacks()\n",
       "        }\n",
       "      };\n",
       "      s.onerror = function() {\n",
       "        console.warn(\"failed to load library \" + url);\n",
       "      };\n",
       "      console.log(\"Bokeh: injecting script tag for BokehJS library: \", url);\n",
       "      document.getElementsByTagName(\"head\")[0].appendChild(s);\n",
       "    }\n",
       "  };var element = document.getElementById(\"065005f6-fd5d-4807-9f8d-a98e87451435\");\n",
       "  if (element == null) {\n",
       "    console.log(\"Bokeh: ERROR: autoload.js configured with elementid '065005f6-fd5d-4807-9f8d-a98e87451435' but no matching script tag was found. \")\n",
       "    return false;\n",
       "  }\n",
       "\n",
       "  var js_urls = [\"https://cdn.pydata.org/bokeh/release/bokeh-0.12.13.min.js\", \"https://cdn.pydata.org/bokeh/release/bokeh-widgets-0.12.13.min.js\", \"https://cdn.pydata.org/bokeh/release/bokeh-tables-0.12.13.min.js\", \"https://cdn.pydata.org/bokeh/release/bokeh-gl-0.12.13.min.js\"];\n",
       "\n",
       "  var inline_js = [\n",
       "    function(Bokeh) {\n",
       "      Bokeh.set_log_level(\"info\");\n",
       "    },\n",
       "    \n",
       "    function(Bokeh) {\n",
       "      \n",
       "    },\n",
       "    function(Bokeh) {\n",
       "      console.log(\"Bokeh: injecting CSS: https://cdn.pydata.org/bokeh/release/bokeh-0.12.13.min.css\");\n",
       "      Bokeh.embed.inject_css(\"https://cdn.pydata.org/bokeh/release/bokeh-0.12.13.min.css\");\n",
       "      console.log(\"Bokeh: injecting CSS: https://cdn.pydata.org/bokeh/release/bokeh-widgets-0.12.13.min.css\");\n",
       "      Bokeh.embed.inject_css(\"https://cdn.pydata.org/bokeh/release/bokeh-widgets-0.12.13.min.css\");\n",
       "      console.log(\"Bokeh: injecting CSS: https://cdn.pydata.org/bokeh/release/bokeh-tables-0.12.13.min.css\");\n",
       "      Bokeh.embed.inject_css(\"https://cdn.pydata.org/bokeh/release/bokeh-tables-0.12.13.min.css\");\n",
       "    }\n",
       "  ];\n",
       "\n",
       "  function run_inline_js() {\n",
       "    \n",
       "    if ((root.Bokeh !== undefined) || (force === true)) {\n",
       "      for (var i = 0; i < inline_js.length; i++) {\n",
       "        inline_js[i].call(root, root.Bokeh);\n",
       "      }if (force === true) {\n",
       "        display_loaded();\n",
       "      }} else if (Date.now() < root._bokeh_timeout) {\n",
       "      setTimeout(run_inline_js, 100);\n",
       "    } else if (!root._bokeh_failed_load) {\n",
       "      console.log(\"Bokeh: BokehJS failed to load within specified timeout.\");\n",
       "      root._bokeh_failed_load = true;\n",
       "    } else if (force !== true) {\n",
       "      var cell = $(document.getElementById(\"065005f6-fd5d-4807-9f8d-a98e87451435\")).parents('.cell').data().cell;\n",
       "      cell.output_area.append_execute_result(NB_LOAD_WARNING)\n",
       "    }\n",
       "\n",
       "  }\n",
       "\n",
       "  if (root._bokeh_is_loading === 0) {\n",
       "    console.log(\"Bokeh: BokehJS loaded, going straight to plotting\");\n",
       "    run_inline_js();\n",
       "  } else {\n",
       "    load_libs(js_urls, function() {\n",
       "      console.log(\"Bokeh: BokehJS plotting callback run at\", now());\n",
       "      run_inline_js();\n",
       "    });\n",
       "  }\n",
       "}(window));"
      ],
      "application/vnd.bokehjs_load.v0+json": "\n(function(root) {\n  function now() {\n    return new Date();\n  }\n\n  var force = true;\n\n  if (typeof (root._bokeh_onload_callbacks) === \"undefined\" || force === true) {\n    root._bokeh_onload_callbacks = [];\n    root._bokeh_is_loading = undefined;\n  }\n\n  \n\n  \n  if (typeof (root._bokeh_timeout) === \"undefined\" || force === true) {\n    root._bokeh_timeout = Date.now() + 5000;\n    root._bokeh_failed_load = false;\n  }\n\n  var NB_LOAD_WARNING = {'data': {'text/html':\n     \"<div style='background-color: #fdd'>\\n\"+\n     \"<p>\\n\"+\n     \"BokehJS does not appear to have successfully loaded. If loading BokehJS from CDN, this \\n\"+\n     \"may be due to a slow or bad network connection. Possible fixes:\\n\"+\n     \"</p>\\n\"+\n     \"<ul>\\n\"+\n     \"<li>re-rerun `output_notebook()` to attempt to load from CDN again, or</li>\\n\"+\n     \"<li>use INLINE resources instead, as so:</li>\\n\"+\n     \"</ul>\\n\"+\n     \"<code>\\n\"+\n     \"from bokeh.resources import INLINE\\n\"+\n     \"output_notebook(resources=INLINE)\\n\"+\n     \"</code>\\n\"+\n     \"</div>\"}};\n\n  function display_loaded() {\n    var el = document.getElementById(\"065005f6-fd5d-4807-9f8d-a98e87451435\");\n    if (el != null) {\n      el.textContent = \"BokehJS is loading...\";\n    }\n    if (root.Bokeh !== undefined) {\n      if (el != null) {\n        el.textContent = \"BokehJS \" + root.Bokeh.version + \" successfully loaded.\";\n      }\n    } else if (Date.now() < root._bokeh_timeout) {\n      setTimeout(display_loaded, 100)\n    }\n  }\n\n\n  function run_callbacks() {\n    try {\n      root._bokeh_onload_callbacks.forEach(function(callback) { callback() });\n    }\n    finally {\n      delete root._bokeh_onload_callbacks\n    }\n    console.info(\"Bokeh: all callbacks have finished\");\n  }\n\n  function load_libs(js_urls, callback) {\n    root._bokeh_onload_callbacks.push(callback);\n    if (root._bokeh_is_loading > 0) {\n      console.log(\"Bokeh: BokehJS is being loaded, scheduling callback at\", now());\n      return null;\n    }\n    if (js_urls == null || js_urls.length === 0) {\n      run_callbacks();\n      return null;\n    }\n    console.log(\"Bokeh: BokehJS not loaded, scheduling load and callback at\", now());\n    root._bokeh_is_loading = js_urls.length;\n    for (var i = 0; i < js_urls.length; i++) {\n      var url = js_urls[i];\n      var s = document.createElement('script');\n      s.src = url;\n      s.async = false;\n      s.onreadystatechange = s.onload = function() {\n        root._bokeh_is_loading--;\n        if (root._bokeh_is_loading === 0) {\n          console.log(\"Bokeh: all BokehJS libraries loaded\");\n          run_callbacks()\n        }\n      };\n      s.onerror = function() {\n        console.warn(\"failed to load library \" + url);\n      };\n      console.log(\"Bokeh: injecting script tag for BokehJS library: \", url);\n      document.getElementsByTagName(\"head\")[0].appendChild(s);\n    }\n  };var element = document.getElementById(\"065005f6-fd5d-4807-9f8d-a98e87451435\");\n  if (element == null) {\n    console.log(\"Bokeh: ERROR: autoload.js configured with elementid '065005f6-fd5d-4807-9f8d-a98e87451435' but no matching script tag was found. \")\n    return false;\n  }\n\n  var js_urls = [\"https://cdn.pydata.org/bokeh/release/bokeh-0.12.13.min.js\", \"https://cdn.pydata.org/bokeh/release/bokeh-widgets-0.12.13.min.js\", \"https://cdn.pydata.org/bokeh/release/bokeh-tables-0.12.13.min.js\", \"https://cdn.pydata.org/bokeh/release/bokeh-gl-0.12.13.min.js\"];\n\n  var inline_js = [\n    function(Bokeh) {\n      Bokeh.set_log_level(\"info\");\n    },\n    \n    function(Bokeh) {\n      \n    },\n    function(Bokeh) {\n      console.log(\"Bokeh: injecting CSS: https://cdn.pydata.org/bokeh/release/bokeh-0.12.13.min.css\");\n      Bokeh.embed.inject_css(\"https://cdn.pydata.org/bokeh/release/bokeh-0.12.13.min.css\");\n      console.log(\"Bokeh: injecting CSS: https://cdn.pydata.org/bokeh/release/bokeh-widgets-0.12.13.min.css\");\n      Bokeh.embed.inject_css(\"https://cdn.pydata.org/bokeh/release/bokeh-widgets-0.12.13.min.css\");\n      console.log(\"Bokeh: injecting CSS: https://cdn.pydata.org/bokeh/release/bokeh-tables-0.12.13.min.css\");\n      Bokeh.embed.inject_css(\"https://cdn.pydata.org/bokeh/release/bokeh-tables-0.12.13.min.css\");\n    }\n  ];\n\n  function run_inline_js() {\n    \n    if ((root.Bokeh !== undefined) || (force === true)) {\n      for (var i = 0; i < inline_js.length; i++) {\n        inline_js[i].call(root, root.Bokeh);\n      }if (force === true) {\n        display_loaded();\n      }} else if (Date.now() < root._bokeh_timeout) {\n      setTimeout(run_inline_js, 100);\n    } else if (!root._bokeh_failed_load) {\n      console.log(\"Bokeh: BokehJS failed to load within specified timeout.\");\n      root._bokeh_failed_load = true;\n    } else if (force !== true) {\n      var cell = $(document.getElementById(\"065005f6-fd5d-4807-9f8d-a98e87451435\")).parents('.cell').data().cell;\n      cell.output_area.append_execute_result(NB_LOAD_WARNING)\n    }\n\n  }\n\n  if (root._bokeh_is_loading === 0) {\n    console.log(\"Bokeh: BokehJS loaded, going straight to plotting\");\n    run_inline_js();\n  } else {\n    load_libs(js_urls, function() {\n      console.log(\"Bokeh: BokehJS plotting callback run at\", now());\n      run_inline_js();\n    });\n  }\n}(window));"
     },
     "metadata": {},
     "output_type": "display_data"
    },
    {
     "name": "stdout",
     "output_type": "stream",
     "text": [
      "The autoreload extension is already loaded. To reload it, use:\n",
      "  %reload_ext autoreload\n"
     ]
    }
   ],
   "source": [
    "import sys\n",
    "sys.path.append(\"../lib/\")\n",
    "from util import *\n",
    "import numpy as np\n",
    "import os\n",
    "from random import shuffle\n",
    "import re\n",
    "\n",
    "\"\"\" bokeh \"\"\"\n",
    "from bokeh.models import ColumnDataSource, LabelSet\n",
    "from bokeh.plotting import figure, show, output_file\n",
    "from bokeh.io import output_notebook\n",
    "output_notebook()\n",
    "\n",
    "\"\"\" data loading \"\"\"\n",
    "import urllib.request\n",
    "import zipfile\n",
    "import lxml\n",
    "import lxml.etree\n",
    "\n",
    "\"\"\" Autoload \"\"\"\n",
    "%load_ext autoreload\n",
    "%autoreload 2"
   ]
  },
  {
   "cell_type": "markdown",
   "metadata": {},
   "source": [
    "### Part 0: Download the TED dataset"
   ]
  },
  {
   "cell_type": "code",
   "execution_count": 3,
   "metadata": {
    "collapsed": true
   },
   "outputs": [],
   "source": [
    "ted_zip = '../data/ted_en-20160408.zip'"
   ]
  },
  {
   "cell_type": "code",
   "execution_count": 4,
   "metadata": {
    "collapsed": true
   },
   "outputs": [],
   "source": [
    "# For now, we're only interested in the subtitle text, so let's extract that from the XML:\n",
    "with zipfile.ZipFile(ted_zip, 'r') as z:\n",
    "    doc = lxml.etree.parse(z.open('ted_en-20160408.xml', 'r'))\n",
    "input_text = '\\n'.join(doc.xpath('//content/text()'))\n",
    "del doc"
   ]
  },
  {
   "cell_type": "code",
   "execution_count": 6,
   "metadata": {},
   "outputs": [
    {
     "name": "stdout",
     "output_type": "stream",
     "text": [
      "Input len = 54863\n"
     ]
    },
    {
     "data": {
      "text/plain": [
       "[\"Here are two reasons companies fail: they only do more of the same, or they only do what's new.\",\n",
       " 'To me the real, real solution to quality growth is figuring out the balance between two activities: exploration and exploitation. Both are necessary, but it can be too much of a good thing.',\n",
       " \"Consider Facit. I'm actually old enough to remember them. Facit was a fantastic company. They were born deep in the Swedish forest, and they made the best mechanical calculators in the world. Everybody used them. And what did Facit do when the electronic calculator came along? They continued doing exactly the same. In six months, they went from maximum revenue ... and they were gone. Gone.\"]"
      ]
     },
     "execution_count": 6,
     "metadata": {},
     "output_type": "execute_result"
    }
   ],
   "source": [
    "sentences = input_text.split(\"\\n\")\n",
    "print(\"Input len = {}\".format(len(sentences)))\n",
    "sentences[:3]"
   ]
  },
  {
   "cell_type": "markdown",
   "metadata": {},
   "source": [
    "### Part 1: Preprocessing\n",
    "\n",
    "### In this part, we attempt to clean up the raw subtitles a bit, so that we get only sentences. The following substring shows examples of what we're trying to get rid of. Since it's hard to define precisely what we want to get rid of, we'll just use some simple heuristics."
   ]
  },
  {
   "cell_type": "code",
   "execution_count": 7,
   "metadata": {
    "scrolled": false
   },
   "outputs": [
    {
     "data": {
      "text/plain": [
       "' baby does.\\n(Video) Hyowon Gweon: See this? (Ball squeaks) Did you see that? (Ball squeaks) Cool. See this one? (Ball squeaks) Wow.\\nLaura Schulz: Told you. (Laughs)\\n(Vide'"
      ]
     },
     "execution_count": 7,
     "metadata": {},
     "output_type": "execute_result"
    }
   ],
   "source": [
    "i = input_text.find(\"Hyowon Gweon: See this?\")\n",
    "input_text[i-20:i+150]"
   ]
  },
  {
   "cell_type": "markdown",
   "metadata": {},
   "source": [
    "Let's start by \n",
    "### removing all parenthesized strings using a regex:"
   ]
  },
  {
   "cell_type": "code",
   "execution_count": 8,
   "metadata": {
    "collapsed": true
   },
   "outputs": [],
   "source": [
    "input_text_noparens = re.sub(r'\\([^)]*\\)', '', input_text)"
   ]
  },
  {
   "cell_type": "markdown",
   "metadata": {},
   "source": [
    "We can \n",
    "### verify the same location in the text is now clean as follows. We won't worry about the irregular spaces since we'll later split the text into sentences and tokenize it anyway."
   ]
  },
  {
   "cell_type": "code",
   "execution_count": 9,
   "metadata": {},
   "outputs": [
    {
     "data": {
      "text/plain": [
       "\"hat the baby does.\\n Hyowon Gweon: See this?  Did you see that?  Cool. See this one?  Wow.\\nLaura Schulz: Told you. \\n HG: See this one?  Hey Clara, this one's for you. You \""
      ]
     },
     "execution_count": 9,
     "metadata": {},
     "output_type": "execute_result"
    }
   ],
   "source": [
    "i = input_text_noparens.find(\"Hyowon Gweon: See this?\")\n",
    "input_text_noparens[i-20:i+150]"
   ]
  },
  {
   "cell_type": "markdown",
   "metadata": {},
   "source": [
    "Now, let's attempt to \n",
    "### remove speakers' names that occur at the beginning of a line, by deleting pieces of the form \"`<up to 20 characters>:`\", as shown in this example. Of course, this is an imperfect heuristic. "
   ]
  },
  {
   "cell_type": "code",
   "execution_count": 10,
   "metadata": {},
   "outputs": [
    {
     "data": {
      "text/plain": [
       "[\"Here are two reasons companies fail: they only do more of the same, or they only do what's new\",\n",
       " 'To me the real, real solution to quality growth is figuring out the balance between two activities: exploration and exploitation',\n",
       " ' Both are necessary, but it can be too much of a good thing',\n",
       " 'Consider Facit',\n",
       " \" I'm actually old enough to remember them\"]"
      ]
     },
     "execution_count": 10,
     "metadata": {},
     "output_type": "execute_result"
    }
   ],
   "source": [
    "sentences_strings_ted = []\n",
    "for line in input_text_noparens.split('\\n'):\n",
    "    m = re.match(r'^(?:(?P<precolon>[^:]{,20}):)?(?P<postcolon>.*)$', line)\n",
    "    sentences_strings_ted.extend(sent for sent in m.groupdict()['postcolon'].split('.') if sent)\n",
    "\n",
    "# Uncomment if you need to save some RAM: these strings are about 50MB.\n",
    "# del input_text, input_text_noparens\n",
    "\n",
    "# Let's view the first few:\n",
    "sentences_strings_ted[:5]"
   ]
  },
  {
   "cell_type": "code",
   "execution_count": 11,
   "metadata": {},
   "outputs": [
    {
     "data": {
      "text/plain": [
       "<_sre.SRE_Match object; span=(0, 0), match=''>"
      ]
     },
     "execution_count": 11,
     "metadata": {},
     "output_type": "execute_result"
    }
   ],
   "source": [
    "m"
   ]
  },
  {
   "cell_type": "markdown",
   "metadata": {},
   "source": [
    "Now that we have sentences, we're ready to \n",
    "### tokenize each of them into words. This tokenization is imperfect, of course. For instance, how many tokens is \"can't\", and where/how do we split it? We'll take the simplest naive approach of splitting on spaces. Before splitting, we remove non-alphanumeric characters, such as punctuation. You may want to consider the following question: why do we replace these characters with spaces rather than deleting them? Think of a case where this yields a different answer."
   ]
  },
  {
   "cell_type": "code",
   "execution_count": 12,
   "metadata": {
    "collapsed": true
   },
   "outputs": [],
   "source": [
    "sentences_ted = []\n",
    "for sent_str in sentences_strings_ted:\n",
    "    tokens = re.sub(r\"[^a-z0-9]+\", \" \", sent_str.lower()).split()\n",
    "    sentences_ted.append(tokens)"
   ]
  },
  {
   "cell_type": "markdown",
   "metadata": {},
   "source": [
    "Two sample processed sentences:"
   ]
  },
  {
   "cell_type": "code",
   "execution_count": 13,
   "metadata": {},
   "outputs": [
    {
     "data": {
      "text/plain": [
       "266694"
      ]
     },
     "execution_count": 13,
     "metadata": {},
     "output_type": "execute_result"
    }
   ],
   "source": [
    "len(sentences_ted)"
   ]
  },
  {
   "cell_type": "code",
   "execution_count": 70,
   "metadata": {},
   "outputs": [
    {
     "name": "stdout",
     "output_type": "stream",
     "text": [
      "['here', 'are', 'two', 'reasons', 'companies', 'fail', 'they', 'only', 'do', 'more', 'of', 'the', 'same', 'or', 'they', 'only', 'do', 'what', 's', 'new']\n",
      "['to', 'me', 'the', 'real', 'real', 'solution', 'to', 'quality', 'growth', 'is', 'figuring', 'out', 'the', 'balance', 'between', 'two', 'activities', 'exploration', 'and', 'exploitation']\n"
     ]
    }
   ],
   "source": [
    "print(sentences_ted[0])\n",
    "print(sentences_ted[1])"
   ]
  },
  {
   "cell_type": "markdown",
   "metadata": {},
   "source": [
    "### Part 2: Word Frequencies"
   ]
  },
  {
   "cell_type": "markdown",
   "metadata": {},
   "source": [
    "If you store the counts of the top 1000 words in a list called `counts_ted_top1000`, the code below will plot the histogram requested in the writeup."
   ]
  },
  {
   "cell_type": "code",
   "execution_count": 74,
   "metadata": {
    "code_folding": [],
    "collapsed": true
   },
   "outputs": [],
   "source": [
    "# ...\n",
    "c = counter_of_words(sentences_ted)\n",
    "counts_ted_top1000 = [x[1] for x in c.most_common(1000)]"
   ]
  },
  {
   "cell_type": "markdown",
   "metadata": {},
   "source": [
    "### Plot distribution of top-1000 words"
   ]
  },
  {
   "cell_type": "code",
   "execution_count": 75,
   "metadata": {},
   "outputs": [
    {
     "data": {
      "text/html": [
       "\n",
       "<div class=\"bk-root\">\n",
       "    <div class=\"bk-plotdiv\" id=\"0238c908-8822-4da8-972c-305c2c8f09c1\"></div>\n",
       "</div>"
      ]
     },
     "metadata": {},
     "output_type": "display_data"
    },
    {
     "data": {
      "application/javascript": [
       "(function(root) {\n",
       "  function embed_document(root) {\n",
       "    \n",
       "  var docs_json = {\"35f2563e-256a-4937-8584-354b39382b7f\":{\"roots\":{\"references\":[{\"attributes\":{},\"id\":\"c429ad93-8f51-4262-a7a2-8ab7e8db8144\",\"type\":\"BasicTicker\"},{\"attributes\":{\"dimension\":1,\"plot\":{\"id\":\"6d16bb5e-218b-4fad-8225-7f85c7606359\",\"subtype\":\"Figure\",\"type\":\"Plot\"},\"ticker\":{\"id\":\"fc0fcd20-0af7-4c53-8679-054c6d1de830\",\"type\":\"BasicTicker\"}},\"id\":\"bcc2821b-2cf3-433b-b69c-b26f7615d8ad\",\"type\":\"Grid\"},{\"attributes\":{\"bottom\":{\"value\":0},\"fill_alpha\":{\"value\":0.1},\"fill_color\":{\"value\":\"#1f77b4\"},\"left\":{\"field\":\"left\"},\"line_alpha\":{\"value\":0.1},\"line_color\":{\"value\":\"#1f77b4\"},\"right\":{\"field\":\"right\"},\"top\":{\"field\":\"top\"}},\"id\":\"4d644e09-969c-4b5b-85d1-810cb4329498\",\"type\":\"Quad\"},{\"attributes\":{\"below\":[{\"id\":\"91a7f367-d154-48e7-b001-08a5bc2511ff\",\"type\":\"LinearAxis\"}],\"left\":[{\"id\":\"eb95d871-a71c-4cdf-bc66-a13d51114e1c\",\"type\":\"LinearAxis\"}],\"renderers\":[{\"id\":\"91a7f367-d154-48e7-b001-08a5bc2511ff\",\"type\":\"LinearAxis\"},{\"id\":\"c33cb149-af6e-466a-84b4-83e667237ac6\",\"type\":\"Grid\"},{\"id\":\"eb95d871-a71c-4cdf-bc66-a13d51114e1c\",\"type\":\"LinearAxis\"},{\"id\":\"bcc2821b-2cf3-433b-b69c-b26f7615d8ad\",\"type\":\"Grid\"},{\"id\":\"766b9874-565c-44d4-8354-c674c26c117a\",\"type\":\"GlyphRenderer\"}],\"title\":{\"id\":\"1967ad1f-3ee0-4b06-b550-0972806a126f\",\"type\":\"Title\"},\"toolbar\":{\"id\":\"cfaf3c0d-6e01-43a5-a4e7-db99d0ec140d\",\"type\":\"Toolbar\"},\"toolbar_location\":\"above\",\"x_range\":{\"id\":\"79692a8d-ea8d-4694-af19-2ab374315896\",\"type\":\"DataRange1d\"},\"x_scale\":{\"id\":\"a5ffb667-ecb4-41ce-9663-9ce43a864fe1\",\"type\":\"LinearScale\"},\"y_range\":{\"id\":\"09b3c4ea-57d8-4f1d-aa43-b97b44d592aa\",\"type\":\"DataRange1d\"},\"y_scale\":{\"id\":\"57159990-ac92-414f-af21-11ec5ef51bb9\",\"type\":\"LinearScale\"}},\"id\":\"6d16bb5e-218b-4fad-8225-7f85c7606359\",\"subtype\":\"Figure\",\"type\":\"Plot\"},{\"attributes\":{},\"id\":\"5a4a6238-9aca-48d5-9938-95f3ba841116\",\"type\":\"PanTool\"},{\"attributes\":{\"formatter\":{\"id\":\"041b9c07-5ce0-4e7d-8db7-965d4cef763b\",\"type\":\"BasicTickFormatter\"},\"plot\":{\"id\":\"6d16bb5e-218b-4fad-8225-7f85c7606359\",\"subtype\":\"Figure\",\"type\":\"Plot\"},\"ticker\":{\"id\":\"fc0fcd20-0af7-4c53-8679-054c6d1de830\",\"type\":\"BasicTicker\"}},\"id\":\"eb95d871-a71c-4cdf-bc66-a13d51114e1c\",\"type\":\"LinearAxis\"},{\"attributes\":{},\"id\":\"fc0fcd20-0af7-4c53-8679-054c6d1de830\",\"type\":\"BasicTicker\"},{\"attributes\":{},\"id\":\"1cc0db5b-9c06-430e-9888-59aaf21d510b\",\"type\":\"WheelZoomTool\"},{\"attributes\":{\"callback\":null,\"column_names\":[\"left\",\"right\",\"top\"],\"data\":{\"left\":{\"__ndarray__\":\"AAAAAABAeUB7FK5H4VqjQHsUrkfhxrFAuB6F61HguUB7FK5H4fzAQJqZmZmZCcVAuB6F61EWyUDXo3A9CiPNQHsUrkfhl9BACtejcD2e0kCamZmZmaTUQClcj8L1qtZAuB6F61Gx2EBI4XoUrrfaQNejcD0KvtxAZ2ZmZmbE3kB7FK5HYWXgQMP1KFyPaOFACtejcL1r4kBSuB6F627jQJqZmZkZcuRA4XoUrkd15UApXI/CdXjmQHE9Cteje+dAuB6F69F+6EAAAAAAAILpQEjhehQuhepAkML1KFyI60DXo3A9iovsQB+F61G4ju1AZ2ZmZuaR7kCuR+F6FJXvQHsUrkchTPBAH4XrUbjN8EDD9ShcT0/xQGdmZmbm0PFACtejcH1S8kCuR+F6FNTyQFK4HoWrVfNA9ihcj0LX80CamZmZ2Vj0QD4K16Nw2vRA4XoUrgdc9UCF61G4nt31QClcj8I1X/ZAzczMzMzg9kBxPQrXY2L3QBWuR+H64/dAuB6F65Fl+EBcj8L1KOf4QAAAAADAaPlApHA9Clfq+UBI4XoU7mv6QOxRuB6F7fpAkML1KBxv+0AzMzMzs/D7QNejcD1KcvxAexSuR+Hz/EAfhetReHX9QMP1KFwP9/1AZ2ZmZqZ4/kAK16NwPfr+QK5H4XrUe/9AUrgehWv9/0B7FK5HgT8AQc3MzMxMgABBH4XrURjBAEFxPQrX4wEBQcP1KFyvQgFBFa5H4XqDAUFnZmZmRsQBQbgehesRBQJBCtejcN1FAkFcj8L1qIYCQa5H4Xp0xwJBAAAAAEAIA0FSuB6FC0kDQaRwPQrXiQNB9ihcj6LKA0FI4XoUbgsEQZqZmZk5TARB7FG4HgWNBEE+Ctej0M0EQZDC9SicDgVB4XoUrmdPBUEzMzMzM5AFQYXrUbj+0AVB16NwPcoRBkEpXI/ClVIGQXsUrkdhkwZBzczMzCzUBkEfhetR+BQHQXE9CtfDVQdBw/UoXI+WB0EVrkfhWtcHQWdmZmYmGAhBuB6F6/FYCEEK16NwvZkIQVyPwvWI2ghBrkfhelQbCUE=\",\"dtype\":\"float64\",\"shape\":[100]},\"right\":{\"__ndarray__\":\"exSuR+Fao0B7FK5H4caxQLgehetR4LlAexSuR+H8wECamZmZmQnFQLgehetRFslA16NwPQojzUB7FK5H4ZfQQArXo3A9ntJAmpmZmZmk1EApXI/C9arWQLgehetRsdhASOF6FK632kDXo3A9Cr7cQGdmZmZmxN5AexSuR2Fl4EDD9Shcj2jhQArXo3C9a+JAUrgehetu40CamZmZGXLkQOF6FK5HdeVAKVyPwnV45kBxPQrXo3vnQLgehevRfuhAAAAAAACC6UBI4XoULoXqQJDC9ShciOtA16NwPYqL7EAfhetRuI7tQGdmZmbmke5ArkfhehSV70B7FK5HIUzwQB+F61G4zfBAw/UoXE9P8UBnZmZm5tDxQArXo3B9UvJArkfhehTU8kBSuB6Fq1XzQPYoXI9C1/NAmpmZmdlY9EA+CtejcNr0QOF6FK4HXPVAhetRuJ7d9UApXI/CNV/2QM3MzMzM4PZAcT0K12Ni90AVrkfh+uP3QLgeheuRZfhAXI/C9Sjn+EAAAAAAwGj5QKRwPQpX6vlASOF6FO5r+kDsUbgehe36QJDC9Sgcb/tAMzMzM7Pw+0DXo3A9SnL8QHsUrkfh8/xAH4XrUXh1/UDD9ShcD/f9QGdmZmameP5ACtejcD36/kCuR+F61Hv/QFK4HoVr/f9AexSuR4E/AEHNzMzMTIAAQR+F61EYwQBBcT0K1+MBAUHD9Shcr0IBQRWuR+F6gwFBZ2ZmZkbEAUG4HoXrEQUCQQrXo3DdRQJBXI/C9aiGAkGuR+F6dMcCQQAAAABACANBUrgehQtJA0GkcD0K14kDQfYoXI+iygNBSOF6FG4LBEGamZmZOUwEQexRuB4FjQRBPgrXo9DNBEGQwvUonA4FQeF6FK5nTwVBMzMzMzOQBUGF61G4/tAFQdejcD3KEQZBKVyPwpVSBkF7FK5HYZMGQc3MzMws1AZBH4XrUfgUB0FxPQrXw1UHQcP1KFyPlgdBFa5H4VrXB0FnZmZmJhgIQbgehevxWAhBCtejcL2ZCEFcj8L1iNoIQa5H4XpUGwlBAAAAACBcCUE=\",\"dtype\":\"float64\",\"shape\":[100]},\"top\":{\"__ndarray__\":\"50H1zNSBOT/ypb1tgHIBPwsriUb5Uew+zuTFiLI04j78kGUPxTHhPh40R25oQNY+zuTFiLI00j4pPQWW1y7APsTbB2FDRsg+JT0FltcuwD4tPQWW1y6wPi09BZbXLrA+JT0FltcuwD4tPQWW1y6gPiU9BZbXLrA+LT0FltcuoD4AAAAAAAAAADU9BZbXLqA+AAAAAAAAAAAAAAAAAAAAAAAAAAAAAAAAAAAAAAAAAAAAAAAAAAAAADU9BZbXLqA+AAAAAAAAAAAAAAAAAAAAAAAAAAAAAAAANT0FltcuoD4AAAAAAAAAAAAAAAAAAAAANT0FltcuoD4AAAAAAAAAACU9BZbXLqA+AAAAAAAAAAAlPQWW1y6gPkU9BZbXLqA+AAAAAAAAAAAlPQWW1y6gPgAAAAAAAAAAJT0FltcuoD4AAAAAAAAAAAAAAAAAAAAAAAAAAAAAAAAAAAAAAAAAAAAAAAAAAAAAJT0FltcuoD4AAAAAAAAAAAAAAAAAAAAAAAAAAAAAAAAAAAAAAAAAACU9BZbXLqA+AAAAAAAAAAAAAAAAAAAAAAAAAAAAAAAAAAAAAAAAAAAlPQWW1y6gPgAAAAAAAAAAAAAAAAAAAAAAAAAAAAAAAAAAAAAAAAAART0FltcuoD4AAAAAAAAAAAAAAAAAAAAAAAAAAAAAAAAAAAAAAAAAAAAAAAAAAAAAAAAAAAAAAAAAAAAAAAAAAAAAAAAAAAAAAAAAAAAAAAAAAAAAAAAAACU9BZbXLqA+AAAAAAAAAAAAAAAAAAAAAAAAAAAAAAAAAAAAAAAAAAAAAAAAAAAAAAAAAAAAAAAAAAAAAAAAAAAAAAAAAAAAAAAAAAAAAAAAAAAAAAAAAAAAAAAAAAAAAAAAAAAAAAAAAAAAAAAAAAAAAAAAAAAAAAAAAAAAAAAAAAAAAAAAAAAAAAAAAAAAAAAAAAAAAAAAAAAAAAAAAAAAAAAAAAAAAAAAAAAAAAAAAAAAAAAAAAAAAAAAAAAAAAAAAAAAAAAAAAAAAAAAAAAAAAAAAAAAAAAAAAAAAAAAJT0FltcuoD4=\",\"dtype\":\"float64\",\"shape\":[100]}}},\"id\":\"5d1c9995-9970-4a7f-be9e-609f276ed1e8\",\"type\":\"ColumnDataSource\"},{\"attributes\":{},\"id\":\"66d6dcc3-faa0-451c-aae7-4e6cf1dc8238\",\"type\":\"ResetTool\"},{\"attributes\":{},\"id\":\"041b9c07-5ce0-4e7d-8db7-965d4cef763b\",\"type\":\"BasicTickFormatter\"},{\"attributes\":{},\"id\":\"73dbf7cc-63e7-41e4-aa69-10aa8bdd0145\",\"type\":\"SaveTool\"},{\"attributes\":{\"plot\":null,\"text\":\"Top-1000 words distribution\"},\"id\":\"1967ad1f-3ee0-4b06-b550-0972806a126f\",\"type\":\"Title\"},{\"attributes\":{\"callback\":null},\"id\":\"79692a8d-ea8d-4694-af19-2ab374315896\",\"type\":\"DataRange1d\"},{\"attributes\":{\"data_source\":{\"id\":\"5d1c9995-9970-4a7f-be9e-609f276ed1e8\",\"type\":\"ColumnDataSource\"},\"glyph\":{\"id\":\"78fbbe5c-bc72-498b-9f6e-5340c2b566b6\",\"type\":\"Quad\"},\"hover_glyph\":null,\"muted_glyph\":null,\"nonselection_glyph\":{\"id\":\"4d644e09-969c-4b5b-85d1-810cb4329498\",\"type\":\"Quad\"},\"selection_glyph\":null,\"view\":{\"id\":\"1c475f24-9ec1-449b-8913-8e46afbdd9d7\",\"type\":\"CDSView\"}},\"id\":\"766b9874-565c-44d4-8354-c674c26c117a\",\"type\":\"GlyphRenderer\"},{\"attributes\":{\"active_drag\":\"auto\",\"active_inspect\":\"auto\",\"active_scroll\":\"auto\",\"active_tap\":\"auto\",\"tools\":[{\"id\":\"5a4a6238-9aca-48d5-9938-95f3ba841116\",\"type\":\"PanTool\"},{\"id\":\"1cc0db5b-9c06-430e-9888-59aaf21d510b\",\"type\":\"WheelZoomTool\"},{\"id\":\"66d6dcc3-faa0-451c-aae7-4e6cf1dc8238\",\"type\":\"ResetTool\"},{\"id\":\"73dbf7cc-63e7-41e4-aa69-10aa8bdd0145\",\"type\":\"SaveTool\"}]},\"id\":\"cfaf3c0d-6e01-43a5-a4e7-db99d0ec140d\",\"type\":\"Toolbar\"},{\"attributes\":{\"source\":{\"id\":\"5d1c9995-9970-4a7f-be9e-609f276ed1e8\",\"type\":\"ColumnDataSource\"}},\"id\":\"1c475f24-9ec1-449b-8913-8e46afbdd9d7\",\"type\":\"CDSView\"},{\"attributes\":{\"bottom\":{\"value\":0},\"fill_color\":{\"value\":\"#1f77b4\"},\"left\":{\"field\":\"left\"},\"line_color\":{\"value\":\"#555555\"},\"right\":{\"field\":\"right\"},\"top\":{\"field\":\"top\"}},\"id\":\"78fbbe5c-bc72-498b-9f6e-5340c2b566b6\",\"type\":\"Quad\"},{\"attributes\":{},\"id\":\"f32326df-0d94-4e41-b71d-a4c7a4f93ea8\",\"type\":\"BasicTickFormatter\"},{\"attributes\":{},\"id\":\"a5ffb667-ecb4-41ce-9663-9ce43a864fe1\",\"type\":\"LinearScale\"},{\"attributes\":{\"callback\":null},\"id\":\"09b3c4ea-57d8-4f1d-aa43-b97b44d592aa\",\"type\":\"DataRange1d\"},{\"attributes\":{},\"id\":\"57159990-ac92-414f-af21-11ec5ef51bb9\",\"type\":\"LinearScale\"},{\"attributes\":{\"plot\":{\"id\":\"6d16bb5e-218b-4fad-8225-7f85c7606359\",\"subtype\":\"Figure\",\"type\":\"Plot\"},\"ticker\":{\"id\":\"c429ad93-8f51-4262-a7a2-8ab7e8db8144\",\"type\":\"BasicTicker\"}},\"id\":\"c33cb149-af6e-466a-84b4-83e667237ac6\",\"type\":\"Grid\"},{\"attributes\":{\"formatter\":{\"id\":\"f32326df-0d94-4e41-b71d-a4c7a4f93ea8\",\"type\":\"BasicTickFormatter\"},\"plot\":{\"id\":\"6d16bb5e-218b-4fad-8225-7f85c7606359\",\"subtype\":\"Figure\",\"type\":\"Plot\"},\"ticker\":{\"id\":\"c429ad93-8f51-4262-a7a2-8ab7e8db8144\",\"type\":\"BasicTicker\"}},\"id\":\"91a7f367-d154-48e7-b001-08a5bc2511ff\",\"type\":\"LinearAxis\"}],\"root_ids\":[\"6d16bb5e-218b-4fad-8225-7f85c7606359\"]},\"title\":\"Bokeh Application\",\"version\":\"0.12.13\"}};\n",
       "  var render_items = [{\"docid\":\"35f2563e-256a-4937-8584-354b39382b7f\",\"elementid\":\"0238c908-8822-4da8-972c-305c2c8f09c1\",\"modelid\":\"6d16bb5e-218b-4fad-8225-7f85c7606359\"}];\n",
       "  root.Bokeh.embed.embed_items_notebook(docs_json, render_items);\n",
       "\n",
       "  }\n",
       "  if (root.Bokeh !== undefined) {\n",
       "    embed_document(root);\n",
       "  } else {\n",
       "    var attempts = 0;\n",
       "    var timer = setInterval(function(root) {\n",
       "      if (root.Bokeh !== undefined) {\n",
       "        embed_document(root);\n",
       "        clearInterval(timer);\n",
       "      }\n",
       "      attempts++;\n",
       "      if (attempts > 100) {\n",
       "        console.log(\"Bokeh: ERROR: Unable to run BokehJS code because BokehJS library is missing\")\n",
       "        clearInterval(timer);\n",
       "      }\n",
       "    }, 10, root)\n",
       "  }\n",
       "})(window);"
      ],
      "application/vnd.bokehjs_exec.v0+json": ""
     },
     "metadata": {
      "application/vnd.bokehjs_exec.v0+json": {
       "id": "6d16bb5e-218b-4fad-8225-7f85c7606359"
      }
     },
     "output_type": "display_data"
    }
   ],
   "source": [
    "hist, edges = np.histogram(counts_ted_top1000, density=True, bins=100, normed=True)\n",
    "\n",
    "p = figure(tools=\"pan,wheel_zoom,reset,save\",\n",
    "           toolbar_location=\"above\",\n",
    "           title=\"Top-1000 words distribution\")\n",
    "p.quad(top=hist, bottom=0, left=edges[:-1], right=edges[1:], line_color=\"#555555\")\n",
    "show(p)"
   ]
  },
  {
   "cell_type": "markdown",
   "metadata": {},
   "source": [
    "### Part 3: Train Word2Vec"
   ]
  },
  {
   "cell_type": "code",
   "execution_count": 18,
   "metadata": {
    "collapsed": true
   },
   "outputs": [],
   "source": [
    "from gensim.models import Word2Vec"
   ]
  },
  {
   "cell_type": "code",
   "execution_count": 35,
   "metadata": {
    "collapsed": true
   },
   "outputs": [],
   "source": [
    "# ...\n",
    "model_ted = Word2Vec(sentences_ted, size=100, min_count=10)"
   ]
  },
  {
   "cell_type": "code",
   "execution_count": 36,
   "metadata": {},
   "outputs": [
    {
     "name": "stdout",
     "output_type": "stream",
     "text": [
      "model_ted voc: 14427\n"
     ]
    }
   ],
   "source": [
    "print(\"model_ted voc: {}\".format(len(model_ted.wv.vocab)))"
   ]
  },
  {
   "cell_type": "markdown",
   "metadata": {},
   "source": [
    "### Part 4: Ted Learnt Representations"
   ]
  },
  {
   "cell_type": "markdown",
   "metadata": {},
   "source": [
    "Finding similar words: (see gensim docs for more functionality of `most_similar`)"
   ]
  },
  {
   "cell_type": "code",
   "execution_count": 37,
   "metadata": {},
   "outputs": [
    {
     "data": {
      "text/plain": [
       "[('woman', 0.8560987114906311),\n",
       " ('guy', 0.8098085522651672),\n",
       " ('lady', 0.7557809352874756),\n",
       " ('boy', 0.7379118204116821),\n",
       " ('soldier', 0.7317131161689758),\n",
       " ('gentleman', 0.7294946908950806),\n",
       " ('girl', 0.7148830890655518),\n",
       " ('poet', 0.6848183274269104),\n",
       " ('surgeon', 0.6828598976135254),\n",
       " ('rabbi', 0.6786246299743652)]"
      ]
     },
     "execution_count": 37,
     "metadata": {},
     "output_type": "execute_result"
    }
   ],
   "source": [
    "model_ted.most_similar(\"man\")"
   ]
  },
  {
   "cell_type": "code",
   "execution_count": 38,
   "metadata": {},
   "outputs": [
    {
     "data": {
      "text/plain": [
       "[('machine', 0.7370160222053528),\n",
       " ('software', 0.7127266526222229),\n",
       " ('robot', 0.7080278992652893),\n",
       " ('device', 0.705635130405426),\n",
       " ('program', 0.6421622633934021),\n",
       " ('printer', 0.6381993293762207),\n",
       " ('chip', 0.6379455327987671),\n",
       " ('simulation', 0.6375066041946411),\n",
       " ('mechanical', 0.6345296502113342),\n",
       " ('camera', 0.6295073628425598)]"
      ]
     },
     "execution_count": 38,
     "metadata": {},
     "output_type": "execute_result"
    }
   ],
   "source": [
    "model_ted.most_similar(\"computer\")"
   ]
  },
  {
   "cell_type": "code",
   "execution_count": 40,
   "metadata": {},
   "outputs": [
    {
     "data": {
      "text/plain": [
       "[('stress', 0.5612446069717407),\n",
       " ('depression', 0.559812068939209),\n",
       " ('abuse', 0.552577018737793),\n",
       " ('symptoms', 0.5474222302436829),\n",
       " ('schizophrenia', 0.5275021195411682),\n",
       " ('condom', 0.5252465605735779),\n",
       " ('gender', 0.5209177136421204),\n",
       " ('parkinson', 0.5189566612243652),\n",
       " ('alzheimer', 0.5117388367652893),\n",
       " ('disabilities', 0.5069156885147095)]"
      ]
     },
     "execution_count": 40,
     "metadata": {},
     "output_type": "execute_result"
    }
   ],
   "source": [
    "# ...\n",
    "model_ted.most_similar(\"sex\")"
   ]
  },
  {
   "cell_type": "code",
   "execution_count": 54,
   "metadata": {
    "collapsed": true
   },
   "outputs": [],
   "source": [
    "import numpy\n",
    "from numpy.linalg import norm\n",
    "def show_similairty(w1, w2):\n",
    "    v1 = model_ted.wv[w1]\n",
    "    v2 = model_ted.wv[w2]\n",
    "    sim = np.dot(v1, v2)/norm(v1)/norm(v2)\n",
    "    print(\"({:10s}, {:10s}): similarity = {:.3f}\".format(w1, w2, sim))"
   ]
  },
  {
   "cell_type": "code",
   "execution_count": 55,
   "metadata": {},
   "outputs": [
    {
     "name": "stdout",
     "output_type": "stream",
     "text": [
      "(king      , queen     ): similarity = 0.732\n",
      "(king      , cat       ): similarity = 0.594\n"
     ]
    }
   ],
   "source": [
    "show_similairty(\"king\", \"queen\")\n",
    "show_similairty(\"king\", \"cat\")"
   ]
  },
  {
   "cell_type": "markdown",
   "metadata": {},
   "source": [
    "#### t-SNE visualization\n",
    "To use the t-SNE code below, first put a list of the top 1000 words (as strings) into a variable `words_top_ted`. The following code gets the corresponding vectors from the model, assuming it's called `model_ted`:"
   ]
  },
  {
   "cell_type": "code",
   "execution_count": 57,
   "metadata": {
    "collapsed": true
   },
   "outputs": [],
   "source": [
    "words_top_ted = [x[0] for x in c.most_common(1000)]"
   ]
  },
  {
   "cell_type": "code",
   "execution_count": 58,
   "metadata": {
    "collapsed": true
   },
   "outputs": [],
   "source": [
    "# This assumes words_top_ted is a list of strings, the top 1000 words\n",
    "words_top_vec_ted = model_ted[words_top_ted]"
   ]
  },
  {
   "cell_type": "code",
   "execution_count": 59,
   "metadata": {
    "collapsed": true
   },
   "outputs": [],
   "source": [
    "from sklearn.manifold import TSNE\n",
    "tsne = TSNE(n_components=2, random_state=0)\n",
    "words_top_ted_tsne = tsne.fit_transform(words_top_vec_ted)"
   ]
  },
  {
   "cell_type": "code",
   "execution_count": 60,
   "metadata": {},
   "outputs": [
    {
     "data": {
      "text/html": [
       "\n",
       "<div class=\"bk-root\">\n",
       "    <div class=\"bk-plotdiv\" id=\"127fa09f-c41c-46f3-8054-2d6f25dc44dd\"></div>\n",
       "</div>"
      ]
     },
     "metadata": {},
     "output_type": "display_data"
    },
    {
     "data": {
      "application/javascript": [
       "(function(root) {\n",
       "  function embed_document(root) {\n",
       "    \n",
       "  var docs_json = {\"f0c4f05e-0b6b-4a5f-a9cd-9094f9beabf8\":{\"roots\":{\"references\":[{\"attributes\":{\"callback\":null},\"id\":\"e8e0aec2-2890-41a4-a9f6-1c8fca14a179\",\"type\":\"DataRange1d\"},{\"attributes\":{},\"id\":\"d3b51ef6-7a55-4889-a5e0-61399568a869\",\"type\":\"WheelZoomTool\"},{\"attributes\":{\"active_drag\":\"auto\",\"active_inspect\":\"auto\",\"active_scroll\":\"auto\",\"active_tap\":\"auto\",\"tools\":[{\"id\":\"2a7a9cc3-30df-472a-87e4-de4e4c5fb28e\",\"type\":\"PanTool\"},{\"id\":\"d3b51ef6-7a55-4889-a5e0-61399568a869\",\"type\":\"WheelZoomTool\"},{\"id\":\"a1d7f627-54e6-49c6-be7d-f540d377133e\",\"type\":\"ResetTool\"},{\"id\":\"65a98414-d3f8-449c-b73a-12ed2a2f0c8a\",\"type\":\"SaveTool\"}]},\"id\":\"583045f4-3f60-43f3-8c58-b14a836df256\",\"type\":\"Toolbar\"},{\"attributes\":{},\"id\":\"a1d7f627-54e6-49c6-be7d-f540d377133e\",\"type\":\"ResetTool\"},{\"attributes\":{},\"id\":\"65a98414-d3f8-449c-b73a-12ed2a2f0c8a\",\"type\":\"SaveTool\"},{\"attributes\":{},\"id\":\"3d9acb23-f8ba-478a-9231-591facfbd164\",\"type\":\"LinearScale\"},{\"attributes\":{\"data_source\":{\"id\":\"4d798858-9a55-4570-9513-998123f56688\",\"type\":\"ColumnDataSource\"},\"glyph\":{\"id\":\"604408ee-8520-466d-b021-5138fe37b0f1\",\"type\":\"Circle\"},\"hover_glyph\":null,\"muted_glyph\":null,\"nonselection_glyph\":{\"id\":\"9199f3be-74ae-4ee5-8834-f680d89b597b\",\"type\":\"Circle\"},\"selection_glyph\":null,\"view\":{\"id\":\"e261903f-f842-4f1d-85fd-462271e51c6e\",\"type\":\"CDSView\"}},\"id\":\"6f1ddced-faba-401a-9ea1-ef39575ed2e1\",\"type\":\"GlyphRenderer\"},{\"attributes\":{\"callback\":null},\"id\":\"b3502128-7910-4097-8021-27ea37bb3c92\",\"type\":\"DataRange1d\"},{\"attributes\":{\"fill_alpha\":{\"value\":0.1},\"fill_color\":{\"value\":\"#1f77b4\"},\"line_alpha\":{\"value\":0.1},\"line_color\":{\"value\":\"#1f77b4\"},\"size\":{\"units\":\"screen\",\"value\":8},\"x\":{\"field\":\"x1\"},\"y\":{\"field\":\"x2\"}},\"id\":\"9199f3be-74ae-4ee5-8834-f680d89b597b\",\"type\":\"Circle\"},{\"attributes\":{},\"id\":\"421225e4-d9db-49ae-9097-a788b25c22e3\",\"type\":\"LinearScale\"},{\"attributes\":{},\"id\":\"1d5fd643-1a05-4f00-bb5a-c83bf404beb1\",\"type\":\"BasicTickFormatter\"},{\"attributes\":{\"plot\":{\"id\":\"2e554ac6-e242-4a77-8d75-14c485290172\",\"subtype\":\"Figure\",\"type\":\"Plot\"},\"ticker\":{\"id\":\"b7ec6f6d-ef34-4040-9dc6-00cc2d6676c1\",\"type\":\"BasicTicker\"}},\"id\":\"790eab28-8ddd-4df2-b271-9af186e174be\",\"type\":\"Grid\"},{\"attributes\":{\"formatter\":{\"id\":\"1d5fd643-1a05-4f00-bb5a-c83bf404beb1\",\"type\":\"BasicTickFormatter\"},\"plot\":{\"id\":\"2e554ac6-e242-4a77-8d75-14c485290172\",\"subtype\":\"Figure\",\"type\":\"Plot\"},\"ticker\":{\"id\":\"b7ec6f6d-ef34-4040-9dc6-00cc2d6676c1\",\"type\":\"BasicTicker\"}},\"id\":\"ea19fa1c-f6d0-4724-ae45-cb93c2adedd6\",\"type\":\"LinearAxis\"},{\"attributes\":{},\"id\":\"b7ec6f6d-ef34-4040-9dc6-00cc2d6676c1\",\"type\":\"BasicTicker\"},{\"attributes\":{\"formatter\":{\"id\":\"6bbe4b1e-86ef-4fea-b9a9-55cef167ed66\",\"type\":\"BasicTickFormatter\"},\"plot\":{\"id\":\"2e554ac6-e242-4a77-8d75-14c485290172\",\"subtype\":\"Figure\",\"type\":\"Plot\"},\"ticker\":{\"id\":\"174bde2f-1771-4893-affc-d230c539cc52\",\"type\":\"BasicTicker\"}},\"id\":\"c63efdbe-95a7-4a24-9614-125d96c59bc6\",\"type\":\"LinearAxis\"},{\"attributes\":{},\"id\":\"174bde2f-1771-4893-affc-d230c539cc52\",\"type\":\"BasicTicker\"},{\"attributes\":{\"dimension\":1,\"plot\":{\"id\":\"2e554ac6-e242-4a77-8d75-14c485290172\",\"subtype\":\"Figure\",\"type\":\"Plot\"},\"ticker\":{\"id\":\"174bde2f-1771-4893-affc-d230c539cc52\",\"type\":\"BasicTicker\"}},\"id\":\"18aa7829-8357-4696-8bcb-befb91a4b61d\",\"type\":\"Grid\"},{\"attributes\":{},\"id\":\"2a7a9cc3-30df-472a-87e4-de4e4c5fb28e\",\"type\":\"PanTool\"},{\"attributes\":{\"plot\":{\"id\":\"2e554ac6-e242-4a77-8d75-14c485290172\",\"subtype\":\"Figure\",\"type\":\"Plot\"},\"source\":{\"id\":\"4d798858-9a55-4570-9513-998123f56688\",\"type\":\"ColumnDataSource\"},\"text\":{\"field\":\"names\"},\"text_align\":\"center\",\"text_color\":{\"value\":\"#555555\"},\"text_font_size\":{\"value\":\"8pt\"},\"x\":{\"field\":\"x1\"},\"y\":{\"field\":\"x2\"},\"y_offset\":{\"value\":6}},\"id\":\"cd4bce74-3cbb-4127-96eb-7b6854a85212\",\"type\":\"LabelSet\"},{\"attributes\":{\"below\":[{\"id\":\"ea19fa1c-f6d0-4724-ae45-cb93c2adedd6\",\"type\":\"LinearAxis\"}],\"left\":[{\"id\":\"c63efdbe-95a7-4a24-9614-125d96c59bc6\",\"type\":\"LinearAxis\"}],\"renderers\":[{\"id\":\"ea19fa1c-f6d0-4724-ae45-cb93c2adedd6\",\"type\":\"LinearAxis\"},{\"id\":\"790eab28-8ddd-4df2-b271-9af186e174be\",\"type\":\"Grid\"},{\"id\":\"c63efdbe-95a7-4a24-9614-125d96c59bc6\",\"type\":\"LinearAxis\"},{\"id\":\"18aa7829-8357-4696-8bcb-befb91a4b61d\",\"type\":\"Grid\"},{\"id\":\"6f1ddced-faba-401a-9ea1-ef39575ed2e1\",\"type\":\"GlyphRenderer\"},{\"id\":\"cd4bce74-3cbb-4127-96eb-7b6854a85212\",\"type\":\"LabelSet\"}],\"title\":{\"id\":\"0ff5f372-4d50-4a10-9c12-ea5afaa1b402\",\"type\":\"Title\"},\"toolbar\":{\"id\":\"583045f4-3f60-43f3-8c58-b14a836df256\",\"type\":\"Toolbar\"},\"toolbar_location\":\"above\",\"x_range\":{\"id\":\"e8e0aec2-2890-41a4-a9f6-1c8fca14a179\",\"type\":\"DataRange1d\"},\"x_scale\":{\"id\":\"3d9acb23-f8ba-478a-9231-591facfbd164\",\"type\":\"LinearScale\"},\"y_range\":{\"id\":\"b3502128-7910-4097-8021-27ea37bb3c92\",\"type\":\"DataRange1d\"},\"y_scale\":{\"id\":\"421225e4-d9db-49ae-9097-a788b25c22e3\",\"type\":\"LinearScale\"}},\"id\":\"2e554ac6-e242-4a77-8d75-14c485290172\",\"subtype\":\"Figure\",\"type\":\"Plot\"},{\"attributes\":{\"fill_color\":{\"value\":\"#1f77b4\"},\"line_color\":{\"value\":\"#1f77b4\"},\"size\":{\"units\":\"screen\",\"value\":8},\"x\":{\"field\":\"x1\"},\"y\":{\"field\":\"x2\"}},\"id\":\"604408ee-8520-466d-b021-5138fe37b0f1\",\"type\":\"Circle\"},{\"attributes\":{\"callback\":null,\"column_names\":[\"x1\",\"x2\",\"names\"],\"data\":{\"names\":[\"the\",\"and\",\"to\",\"of\",\"a\",\"that\",\"i\",\"in\",\"it\",\"you\",\"we\",\"is\",\"s\",\"this\",\"so\",\"they\",\"was\",\"for\",\"are\",\"have\",\"but\",\"what\",\"on\",\"with\",\"can\",\"t\",\"about\",\"there\",\"be\",\"as\",\"at\",\"all\",\"not\",\"do\",\"my\",\"one\",\"re\",\"people\",\"like\",\"if\",\"from\",\"now\",\"our\",\"he\",\"an\",\"just\",\"these\",\"or\",\"when\",\"because\",\"very\",\"me\",\"out\",\"by\",\"them\",\"how\",\"know\",\"up\",\"going\",\"had\",\"more\",\"think\",\"who\",\"were\",\"see\",\"your\",\"their\",\"which\",\"would\",\"here\",\"really\",\"get\",\"ve\",\"then\",\"m\",\"world\",\"us\",\"time\",\"some\",\"has\",\"don\",\"actually\",\"into\",\"way\",\"where\",\"will\",\"years\",\"things\",\"other\",\"no\",\"could\",\"go\",\"well\",\"want\",\"been\",\"make\",\"right\",\"she\",\"said\",\"something\",\"those\",\"first\",\"two\",\"than\",\"much\",\"also\",\"look\",\"new\",\"thing\",\"little\",\"got\",\"back\",\"over\",\"most\",\"say\",\"even\",\"his\",\"life\",\"only\",\"work\",\"many\",\"take\",\"need\",\"did\",\"lot\",\"kind\",\"why\",\"good\",\"around\",\"every\",\"different\",\"down\",\"ll\",\"let\",\"her\",\"through\",\"same\",\"being\",\"come\",\"d\",\"day\",\"year\",\"three\",\"use\",\"doing\",\"put\",\"called\",\"any\",\"today\",\"percent\",\"made\",\"after\",\"thank\",\"tell\",\"great\",\"human\",\"find\",\"didn\",\"fact\",\"talk\",\"change\",\"started\",\"another\",\"idea\",\"big\",\"last\",\"own\",\"before\",\"its\",\"never\",\"should\",\"better\",\"give\",\"thought\",\"went\",\"might\",\"important\",\"000\",\"again\",\"able\",\"together\",\"still\",\"problem\",\"off\",\"next\",\"part\",\"course\",\"system\",\"him\",\"does\",\"each\",\"start\",\"show\",\"long\",\"ago\",\"story\",\"came\",\"brain\",\"few\",\"bit\",\"between\",\"used\",\"place\",\"technology\",\"women\",\"too\",\"old\",\"mean\",\"data\",\"water\",\"looking\",\"question\",\"maybe\",\"found\",\"love\",\"doesn\",\"end\",\"example\",\"10\",\"done\",\"point\",\"four\",\"real\",\"wanted\",\"ever\",\"school\",\"understand\",\"sort\",\"live\",\"call\",\"whole\",\"children\",\"always\",\"trying\",\"may\",\"person\",\"away\",\"believe\",\"feel\",\"try\",\"million\",\"working\",\"help\",\"everything\",\"five\",\"country\",\"thinking\",\"second\",\"using\",\"information\",\"money\",\"means\",\"power\",\"took\",\"times\",\"high\",\"space\",\"number\",\"kids\",\"home\",\"become\",\"create\",\"small\",\"design\",\"making\",\"best\",\"left\",\"getting\",\"future\",\"enough\",\"man\",\"quite\",\"city\",\"without\",\"sense\",\"happened\",\"comes\",\"social\",\"probably\",\"less\",\"light\",\"talking\",\"energy\",\"am\",\"building\",\"science\",\"food\",\"body\",\"told\",\"interesting\",\"ask\",\"half\",\"pretty\",\"hard\",\"play\",\"anything\",\"lives\",\"countries\",\"coming\",\"such\",\"family\",\"stuff\",\"dollars\",\"earth\",\"moment\",\"20\",\"imagine\",\"across\",\"side\",\"while\",\"saw\",\"happen\",\"once\",\"okay\",\"build\",\"having\",\"men\",\"later\",\"experience\",\"makes\",\"asked\",\"living\",\"seen\",\"says\",\"room\",\"hand\",\"simple\",\"health\",\"ways\",\"else\",\"case\",\"yet\",\"almost\",\"young\",\"days\",\"nothing\",\"care\",\"bad\",\"happens\",\"goes\",\"move\",\"states\",\"reason\",\"computer\",\"open\",\"learn\",\"africa\",\"process\",\"inside\",\"someone\",\"six\",\"far\",\"mind\",\"project\",\"remember\",\"single\",\"picture\",\"both\",\"whether\",\"problems\",\"saying\",\"community\",\"basically\",\"already\",\"within\",\"looked\",\"myself\",\"billion\",\"often\",\"possible\",\"business\",\"planet\",\"global\",\"everybody\",\"top\",\"sure\",\"public\",\"set\",\"wrong\",\"car\",\"book\",\"keep\",\"yes\",\"answer\",\"oh\",\"hope\",\"sometimes\",\"true\",\"history\",\"war\",\"guy\",\"child\",\"instead\",\"months\",\"ideas\",\"looks\",\"matter\",\"government\",\"amazing\",\"united\",\"since\",\"bring\",\"age\",\"cells\",\"job\",\"heard\",\"until\",\"face\",\"wasn\",\"100\",\"read\",\"control\",\"isn\",\"research\",\"30\",\"words\",\"u\",\"group\",\"under\",\"self\",\"somebody\",\"built\",\"state\",\"woman\",\"turn\",\"friends\",\"beautiful\",\"line\",\"knew\",\"couple\",\"order\",\"form\",\"yeah\",\"internet\",\"middle\",\"music\",\"piece\",\"nature\",\"head\",\"though\",\"stop\",\"everyone\",\"50\",\"places\",\"video\",\"learned\",\"language\",\"run\",\"night\",\"decided\",\"study\",\"word\",\"cancer\",\"taking\",\"works\",\"became\",\"exactly\",\"species\",\"society\",\"completely\",\"education\",\"against\",\"stories\",\"large\",\"share\",\"level\",\"heart\",\"america\",\"model\",\"questions\",\"gets\",\"mother\",\"god\",\"company\",\"turns\",\"ourselves\",\"happening\",\"hear\",\"art\",\"themselves\",\"must\",\"itself\",\"rather\",\"kinds\",\"students\",\"name\",\"hours\",\"disease\",\"front\",\"house\",\"huge\",\"couldn\",\"created\",\"universe\",\"ok\",\"animals\",\"american\",\"environment\",\"worked\",\"minutes\",\"ones\",\"black\",\"perhaps\",\"1\",\"past\",\"third\",\"along\",\"others\",\"finally\",\"sound\",\"early\",\"game\",\"thousands\",\"century\",\"based\",\"least\",\"per\",\"ted\",\"lots\",\"figure\",\"free\",\"guys\",\"particular\",\"happy\",\"news\",\"learning\",\"entire\",\"won\",\"gave\",\"machine\",\"india\",\"during\",\"systems\",\"air\",\"difference\",\"outside\",\"natural\",\"taken\",\"seven\",\"given\",\"changed\",\"leave\",\"cell\",\"15\",\"close\",\"behind\",\"cities\",\"full\",\"scale\",\"difficult\",\"china\",\"takes\",\"companies\",\"yourself\",\"area\",\"reality\",\"seeing\",\"easy\",\"turned\",\"cost\",\"eyes\",\"team\",\"moving\",\"population\",\"culture\",\"york\",\"hands\",\"whatever\",\"began\",\"needs\",\"terms\",\"image\",\"simply\",\"needed\",\"beginning\",\"father\",\"local\",\"realized\",\"media\",\"death\",\"parents\",\"view\",\"walk\",\"white\",\"market\",\"parts\",\"ocean\",\"economic\",\"eight\",\"powerful\",\"known\",\"week\",\"size\",\"felt\",\"humans\",\"certain\",\"spend\",\"longer\",\"phone\",\"wonderful\",\"cannot\",\"grow\",\"common\",\"center\",\"tried\",\"fish\",\"land\",\"oil\",\"political\",\"interested\",\"deal\",\"red\",\"gone\",\"amount\",\"weeks\",\"spent\",\"opportunity\",\"paper\",\"lost\",\"national\",\"quickly\",\"blue\",\"step\",\"poor\",\"green\",\"buy\",\"growth\",\"wouldn\",\"either\",\"patients\",\"sitting\",\"ability\",\"changes\",\"write\",\"challenge\",\"south\",\"low\",\"growing\",\"friend\",\"field\",\"shows\",\"2\",\"born\",\"rest\",\"climate\",\"40\",\"test\",\"street\",\"surface\",\"incredible\",\"average\",\"physical\",\"morning\",\"scientists\",\"program\",\"pay\",\"value\",\"feeling\",\"hundreds\",\"girl\",\"met\",\"behavior\",\"economy\",\"dna\",\"complex\",\"access\",\"risk\",\"animal\",\"structure\",\"feet\",\"attention\",\"areas\",\"anyone\",\"deep\",\"watch\",\"short\",\"absolutely\",\"speak\",\"brought\",\"die\",\"bottom\",\"numbers\",\"audience\",\"stage\",\"realize\",\"law\",\"images\",\"wrote\",\"understanding\",\"knowledge\",\"literally\",\"books\",\"movement\",\"ground\",\"giving\",\"eat\",\"force\",\"seems\",\"alone\",\"telling\",\"starting\",\"hold\",\"nice\",\"forward\",\"sea\",\"developed\",\"individual\",\"kid\",\"millions\",\"support\",\"miles\",\"tools\",\"running\",\"online\",\"result\",\"act\",\"medical\",\"technologies\",\"north\",\"lab\",\"development\",\"blood\",\"fear\",\"nobody\",\"map\",\"personal\",\"issue\",\"voice\",\"material\",\"key\",\"12\",\"recently\",\"theory\",\"cut\",\"cars\",\"sun\",\"fast\",\"changing\",\"playing\",\"clear\",\"especially\",\"soon\",\"girls\",\"patient\",\"choice\",\"fly\",\"creating\",\"normal\",\"discovered\",\"europe\",\"talked\",\"relationship\",\"gives\",\"generation\",\"dark\",\"type\",\"showed\",\"chance\",\"seem\",\"industry\",\"asking\",\"rate\",\"fun\",\"issues\",\"color\",\"designed\",\"hour\",\"university\",\"innovation\",\"several\",\"class\",\"computers\",\"english\",\"tiny\",\"allow\",\"save\",\"focus\",\"digital\",\"solve\",\"developing\",\"network\",\"film\",\"special\",\"wall\",\"situation\",\"baby\",\"solution\",\"reasons\",\"box\",\"knows\",\"meet\",\"dead\",\"stand\",\"begin\",\"haven\",\"impact\",\"anybody\",\"term\",\"beyond\",\"pictures\",\"please\",\"ice\",\"produce\",\"shape\",\"non\",\"resources\",\"robot\",\"cool\",\"groups\",\"likely\",\"stay\",\"available\",\"truth\",\"rights\",\"major\",\"cause\",\"evidence\",\"obviously\",\"writing\",\"experiment\",\"modern\",\"drug\",\"becomes\",\"incredibly\",\"aren\",\"bigger\",\"guess\",\"nine\",\"product\",\"drugs\",\"lived\",\"involved\",\"perfect\",\"google\",\"month\",\"effect\",\"similar\",\"putting\",\"eye\",\"pick\",\"message\",\"quality\",\"violence\",\"web\",\"evolution\",\"security\",\"office\",\"basic\",\"solar\",\"indeed\",\"general\",\"towards\",\"present\",\"drive\",\"send\",\"listen\",\"worth\",\"revolution\",\"explain\",\"hundred\",\"certainly\",\"died\",\"ready\",\"teach\",\"journey\",\"25\",\"hit\",\"walking\",\"led\",\"approach\",\"international\",\"200\",\"scientific\",\"games\",\"60\",\"potential\",\"crazy\",\"communities\",\"chinese\",\"device\",\"source\",\"camera\",\"rules\",\"sex\",\"carbon\",\"sounds\",\"boy\",\"reach\",\"starts\",\"examples\",\"west\",\"3\",\"success\",\"measure\",\"particularly\",\"software\",\"totally\",\"suddenly\",\"action\",\"college\",\"higher\",\"code\",\"eventually\",\"democracy\",\"among\",\"minute\",\"sit\",\"largest\",\"showing\",\"hospital\",\"notice\",\"period\",\"mass\",\"develop\",\"dream\",\"onto\",\"plants\",\"break\",\"add\",\"memory\",\"everywhere\",\"favorite\",\"11\",\"zero\",\"speed\",\"schools\",\"moved\",\"response\",\"wants\",\"extremely\",\"movie\",\"individuals\",\"table\",\"wait\",\"medicine\",\"follow\",\"anyway\",\"trust\",\"plant\",\"biggest\",\"watching\",\"organization\",\"creative\",\"road\",\"choose\",\"worse\",\"lead\",\"results\",\"500\",\"exciting\",\"grew\",\"materials\",\"jobs\",\"plan\",\"east\",\"poverty\",\"positive\",\"safe\",\"strong\",\"fall\",\"essentially\",\"object\",\"door\",\"son\",\"vision\",\"further\",\"happiness\",\"continue\",\"student\",\"doctor\",\"including\",\"named\",\"role\",\"objects\",\"extraordinary\",\"standing\",\"skin\",\"leaders\",\"usually\",\"african\",\"conversation\",\"projects\",\"allowed\",\"models\",\"supposed\",\"faster\",\"interest\",\"families\",\"police\",\"fight\",\"tree\",\"connected\",\"screen\",\"5\",\"cases\",\"goal\",\"somewhere\",\"finding\",\"buildings\",\"shown\"],\"x1\":{\"__ndarray__\":\"OUJbFzPmHEDKmlAhZdwGwI4qK8DTgRLA/273Bq/9KsAh2H6sS/UFwFwCsO2fXwzAuVr4f/kqCMBQDbjkFvniv6kRbazwfQLAzXEii0r1HkD+h8YLOmIeQFPFQszSkxxAPHotlVCBHECQuc8LJgMMwFBPYIXRVAzAYp6R/txFHkBAskKvRx8nwKURGEKTYPe/quIc4APWIUAdZ2JlwiYgwNpM09NXogvAFQnl+CqKK0CWU9P7SXC2v7aEhyOz6gnA/NmNhFr9J8D9jCcbPCUbwN8Mmm5NYRvAZZ2tPUIqIsBsXDMwWkghwCPsDuyyZBfAtPKnf01X7j9sN3fXq34gwNgj3MJDmB7Awlt9k8nkHMCf9O7WPxATwAJa8kODViJA3LzYomjPIUCrALtIK/4FQPqZ1VHt0yHA+rrK5q4XJMA1LBLa/k7/P+9vVhTkoxZAgiDe+uPw9T9wkQfFnlETwM5WwB23kiFAWp7UMQKhHMBqz8NKmLIXQLPOf/iaXzXAgMCLupAVA0CcAvbJdaQGwG568JlFcjHAAqLE/raNAMBL0G6xuzrQPwCJ1cT4+gBAVKyMWhtFBECCPfBmyU8IwPs0W+K/XhLAhVuOSC+2+D8jmHCQKlUsQIEfoBDV/yVAFVl90AA/JkBkzt56AAQSwItSAJer2P0/qXO2QD/ZIUDH4fP7Mf0OwBhuB6t3thDAZ7jLIv7+AEB9aT01JRwJwJuBNFdLqCbA7QbFLRrnFUD0gM0wZmMwwKiKBoahkxrAlGmriOYCIkB98GiNkOUDwE4XvOjBYC3AjhWB8ayANMDSmQ323f0EQIi62+9drDDAQrqAgdCnKUAE82Ow8xclQI3c0hgmNCpAUjdpVvhmGcBgDaZsouIEQKtg21+hGhbADn8n2w0z/7/LyaGdamEnwLCrtvNqnDPA5/QwTv4K178+zBnOiTr8v8zxslhzHBrAvRotNxDYJsAPXfHcTU0TwOAPamoLkRbARlIzyfBKK0DSdKrSZhErwHKXV0sWxCfAVbTk2jvhEsC/9jE9DYgTwH+OToNVJx9Aeef5o/3qLEDiPvkNQ7gXQMFbaS3v+CBAEtWWXUSOFUAugjvu/s4QwItKAcKBuCVAM3qrF+CLG8A29ibnpbMRQKa3fzCjChbAYAwJxqNB6b9H9kLmyQAmQIZ0M0UADjBADFYLvZ2PoT+M2TKfrtgFQB54vsCTmifAdGvIOhirFEACVeMnDscjwNRNp4U9CRPAOiItNDNNJcAaLqGv3bchwEcCuhP3ADTAfYRtrkVPJkCyzH89rbscwFdgVff6RCtA/coe8Cv3LkD23VumwIApQHm6MBee8RRA7vOagyX9CMBSHczdNpEwQLs/cBkpVQVAUmRzS/0oMsD23+kyJVsawO0IVTPfzcu/IqbZqUy/MsAnnPYept4UwNvAJi8LOhPAjKUbEn23BEBWjs7ROvoXwFZSdHOMXyPALtrLwV6CEcBBXOhPWa8mwNmTRwvNtjHAHwKQNH5zMsBCYRAUSCIVQCe0rm0/sCbAA8QlMLuzIsDlbu8UDREdwKIGazTZmCTA5sHmx/QONsB9G4pfyQkXQIdLQkbY5uM/TJ0wvsvGJcBFMn8DdbAMQPl645o1ohNAbDYlyF/tEcDGVYh01v0jwIjXYRwZ4BrAwAZFVIXjIsBV6PzcKewpQJD6paiUPybAIsgnNs7wFMAcpZSepX0gwK2/T0xTzi5ARoynk7gPIUCK4Pgn68cowDtCSZvtVPO/lo3O0wOTGkDmA6iovDkiwJTLvpRBQghAJlGVbmt0FcD6E/dtOow3wLfA6EE4JSXADOCqRUqBJkD9jtN3bSUgwFRqfRp64CnASUhZxynPJMCmVvt693AlwEsfIaWIfifANu8fSHoz9D9iT/u910gEwGJ51uXbRSxAAWtvzcapCkAbNatXbxAgwBuzG4nVxynABrTiGVztyb+tXCymWV4bQG1ElMIyDSnARNGjNxFdJcCrN2fo3sAZwMjMbZxDfADAFjFZlto4FkBgch4gSSUywMwF+wV4CSLAFpPZl8F0EMBSgUI2zlgOwO16lrv2DQtAqD0WEQYYJ8CcnBqXVtskwNeDIk94wQJAklukHhziFUD5iKQ0sUi7P0fhRYv+lO8/2ubAYb5KLkCzzaskjnYowDxRBcztVwvAvDDqwIRuCUCz0BYMEkUywIHiZeaznQRAtwcY9KaiCkCqUH8JiAQDwBH3rRv67BlAAVLoi8+XEUA0wSd+e+4mwB1L/UVYzyTAR0dObT2sKsCEFwwDOFwqwMm2rGHQMCpAnB5YHzCiF0DJAeeTUoIAwC2HDwxN6QtAqX5H5QF3K8Cs6m3LeEkwwO+VKBQBGBRA6gs5dKLsIcA9472fjXgsQDp/kfZbjDfAgBRob/keMcANwG+MwR4ZwOYZDSeY8RRATsbJwnG3JcD02sVvWBsSwO3gMK+eeRDAt4lbBmkJAkAopNicZH8hwGlgJ/i5BytA36jCz3JsJcBEjjLUI38PwH2RSNJb6d2/Kvk4nwNaEsCtPtz2N1kWwErDEi3n5yHAXC05pzJz9T/BoJVYqw0twBe1k0dGcCTAosyfO1G5LUDPgovV3R4SQDk3LDJ2lDPA6AaiIfczHMBn0En72d8gQI2s/KTI3SnArrvZ2IIlA8ARvn/h6xYTwPxENpPiXhtAzmDh6h77IcCcHIoaXT4jwJvxb1Ie5zTAd/NtDtfPLEDl0OL9540NwGggsEm5pQ1AP4Q1FN8uAkAdRq7q7K4vwE9tIB9uXSTAyhInztsBJ8CcoJWnY10lQG/TZFPShirATefN5IkLJcAwtb5YEf8twJH5onyKuAlA5fHOwInOH8DNMhw66jwtwAJDAHOFwzLAJat04txrE8Ae/qvNeewwwLA/dqYFXTLA++GbppW87z8xLZKcNvEkwBkGrsBWES3AN9gsuWA0IkASOIXZpbYwwHIRVGgBOyPAYIwBsq0hJkAAX+LaXRkZQFc6UEaVjxzA4HRvKv3g6T8eXQ03t14twN9ofjuRzCnAZnEVVvImLMB0JyfNt+PyP5K11/RGhf0/cJQW/MgLIcCX8oqiR7gmwAmUlBOfChjAb6nhzif3EUB5hDj6x78xwPSnyrBYXClARwM06p42HsAcMUQTinUtQB1xLxkr9MW/RSOMlVwgEEDAiX2v7tQbwON3oaEt1xnA5AAwI9DlLsBqOzvVI1ntv42SxQaZLDXASglboMAqGkD+KQL9N2cwwEh3p/EMcAlALOlHxW//EMDqEceHxfMEQIGBBnc3yw5AsYD9TjK/DcALrXUcSEslwIHRncuOOyDAvT8FoW8IB8BcTa/4afwXwGhKjM8OByfAfrCqXPcxGMDfH9qQOa8IQO9qE+XBbQpAVVmPJpblJcBumOgybhMkQJxbMMe4ISHAMHzA3+QoJ8DVRx6z0JcpwILYusaWyR9AtBA6M2Sl8T9arWnWUpoNQJXnfOygVhzAmIVxq8YTMsCKYTIbXJnrv3wiKUePejBAoD2kiQ9jJsASuqSN5uUgwN/JjbWLSB/ABlPhOnk0/z/mv1PRS8UzwG23bAGIky1AW15PTaHIMsAFm2lWXJEwQD+fOe1dZRxAjs5JdJoeIkDINdfAnqYUwC7sU+IF4jTAduNLL5P2CcC6yQuYHJ3tvwCPSMSD1e+/AQzSf0URHcDgrfGpeU40wKpA/kckHxbAH0tdlLqb0D/w2AGgW8kwQK4fYi8rxhFAe32MG+AYJUDDPRZKHmckwCSrDgA5LyzA63qLCDFwE8Ake7KRSksUwAJyJji0wuq/Cvl2cLZvH8Acklc3Wac2wJdlsOWUN/a/gE/hXRpfG8CoyxIJUDowwEBiTmsmfxjA8vxqZoNvH8A8oalXqGLvvy38ga4nLxFA8CvWH6CiAcB1TJiXBd31P6pzwEmA6CDAHxbJZVXVI8ABig90i4wvwHNUOlgAXBpA/5DzNUMiMcBjtU4mu80vQAa5YyMh2xFA10neE1bRE8CIuLNslHsxwAuAodXK3inA9Q6DTDGnGsBoVWhlvgHuP0wOgwR6BAbAQoGS/05XIcCbyth26f0XwPGi87KUyCbAbvrfDgkKGcBfIgqkSaEmwJ/joD184SDAiCQLaT7qI8BSTEcKj+UowPzoYBCJrTPAy928klNJE8Ao/0DtKV8RwGh+K0jiYBXAhMLl8A/BM8D8tlvuUe/hv+xsv/nu3ABAxlGAJuL6I8Bb2TjqPhkywLzSMKIypCXAVQkIkvGbM8CtQvuuqy0MQDI71w+1aB7AjkiftyXyCEBXLgEr7mcMQPYiQalFvizAqAxL42nUKMD2Jb7aJV0KQEws62I/pv4/4dne9Mt9JkBEkS5AAT8EQCUy7iJxxxjARDaf3gYVIcDohq7k3IQmQGcxp02e2yzA+7p8sDowCUBS5GBWnDsXQJYlJ0cIJDPAkpOhw+sUL8C7ZQ2mCO7cvxg58lb2QyLA7aC6YZyzMECTjoyHE38owB4JIiCDfTHA1kD1UZNzE8BZ2Kil58QVwCAb2IQimy7AJVYVHIK0I8BRp6rkYTUNQDDKfz20mynArRkrlVbYFUDCZBAZfowhwDa9L5XqHRHAIdjvXe4UF8AXfZcQY/ANwAkRFlFkszTAK9kwEAGEDcA8O7iDBzPmvxmXlxxLBx/AtfOq3EPNA0Dyo7/eoakhwP0BhtqlTSHACKmLCtTPL0DpUeOg1K4GQEWFb78CRRBASXFsPdAA+L+prGbrk3wpwBBp1eofhDDAD0MnkdMbFMCMqzkKBC0xwA5T8fOx3ixA32LdED5wK8DqQJzMoMgLwD2TNzkfkxtAE82qagXhH8DmFrwIo0YTQHWtddZeoibAnpAX0OVVF8C0FRv7NrADQMdEHPh+Ny3A4tGdZaCOIMDy3tbBuqAxwBrDjlstZt8/ZN89Xd/YE0C0gCDY+qwlQPvWOceevxzA9tkm2P2/BEBa+/9YfR72P5FHMzjjJzTASD7PPxT1KcAMARtF10H6v2IjFZogYCFAYljS6KsGF8BRCUhqwKEVwJMofAv5vCzAByOKGfyrIkCzYvZ5zgb/P3OoawHHayPAyP/r199sFcB5cwUFIR4swGu/u5POtABAhzdVzj/UJMAya32v11IWwAF3C0SdtyRAtWLW36RxEECRFgGXPZL6Pxk0OwoKYxPAcRKm0rALNMDy6mMc7IobQNLXQVPeOgJAO2WRPZgu9j+OcIY8/uHyv/Z0tzxHfSlA2fcFO7DuKsCKUE4JIHQcwEQXL9g8IRjAzfwX6ea+9T/P1I7aFIwywJRiekbDwBrA08+LAXAuLsBKrVkcUewzwOGexj2ypwpADuTTIrYaF0BaLUDqwYEkwJ8Gk2OjUfw/aVXOQgnsGUBCy81899QgQFYWgpJUZgFAWUNGQB4E/z+XFlpyhXMEwAmQ7OjPAuY/b1M5SxkWEUBiSlvxyaf9v1036Pe7GyhAhc2mdOVqMMDCoRIbfh4dwHNPH46VOgxAVnFFPYhU07+OY4aTs9DmPwNs+lpTTSlALUOpZfQDI8D98uW+oL7uvz8B8kiA/hVA+UbiYi6CFsCvPZzkMFoVwNWfq/FM7CPA5tFHYvAwKsBK6fS9x9stwGFFL3AFSylA5HBgfp9hI8AYSUSX5Zvwvz5LAVoYAzTATg/cWEqyDUAUTneHbMDDvxfUNxPzWhhATR6NHikjJ8B5Wm7MF0naPwuePEyaYhvABnYvy9LkKMCM7ucefLMPQDcHIl+awSbAZa78v9jtLcAgIG7I7E0awDngC1N5NQxA+2JHsWemC0Dw6P7bouoiQLeJy3vtX+G/PS/uIGUTDUABtKehanvzv7sdOcx1RwFAyk5TQvpLKUBN9u6MbRA0wJ8HDRtxPiNAMoNcK4S6+T/LnTOOKxARwFcD2sS2vRhAjIcYsX5UHMCjmFNgnrMiwH90CikzUClA39VNRBCiIkDX/z93tc39P2ZQK5FHBQdAyAe3BJ5ZLsBUlbVp5l4cwPCEjSFjMzDA3JmehjDTK8A5eRLvjQEywDJ9TPoLKQdAKjyRvQqjNsDl/Bs3hSouQLOXfkKwgCJAt2veutkdJMCC6xpelsX4v5SUYTL6ox3A5LcEWeSRLECv7p4n9I4CwIwoDr+QGxfAXhrAYkksMcCaKfCVV78pwA+glznBHDDAlkE87c3EKMAvD7V6YJEuwM7v9wbzohvAVWQzFYZAFcBXoOFIECMXQGcYOvXlbi7AcEy0M8OCEUCMCf7fDXUVQOrDRejsgTDAgBitwS9TD0C79Buzp7wfwMk4jb8X7yrAWDzrZghRMsBdaN8GTyHRvzSmBgncVCnAwFLibV7g+j+gAjNfbOsYwBgVGARahCTArnPVSbIuJUAkiz/qDRHXP8apPkYwIiTAtLigr++KJMB152JXw8UgwAzpkBGubh7Ae0Lq+m3GL8Devw6bBBYtQED7ZhOEuA9ASuBBQgplE0CUE8qw3KjmP+84yXM6rjDA83s+jmTzMMAapwbklzwowHTBL16z8wpA9mRd67n2KMA4P5TaWS3yP67uqHZ9xzPAoUjIv3czJMDEEZflqkkpwPxYZygZHra/hlZjuxStLcAOHjP3E+ExwAQ63mvZ5SJAvxn3gqqRGkDkAKwxG/gswPD5HnQeoyLAN1TtQq3CBECvTZFhgg8gwMrStkP4UTDAn32Cce9fKUCYmV2E/6I2wBZyMzNBBfk/8cWHdvWtF8BJv4+WoqYhwJ4vdaN7chHAcApoYG0SGcDEL3xJxpIpwF3qT2857TTABB61yy/MLEApvM8YjgkkwI5RBmWENxfA8Gmpz1YfE8CDIunytJMiwLZt9SGVE/8/WsSXqJv2EMAWyDArAkInwLGFWV1jIDHAz3WD40ItB0CrpF0Oq18qwNMjkgAMTQZAE9M9uEzYFUCSXDudqnMlwJAWYc+qbfG/DZbXLg93G8BZRh+hLlcxwLbS+IWnNdU/sPRCD2+IK8ByVhjMbNYiwH52qShi2CLA6eUzScBdH8CTchKyxhQoQB3Dg+ly6hTAX0Ur9oYNJ8BEK8V9IPYcwPUcD9LGBTDAZTBl73e6CcDiT2J1L70dwCUmEdPF8CXA0GYjGpaqCUB3sjy8H6cAwMC+bajiExLAVd5lOrleNcDKr7/T+M0kwDDZD/Z/uhBAOH0KxoE/MEBd3y7KssQRQCbpjanhRhnADp7vekXuD8BHgh0QPuggwDUvnKkqGhrAfwe/7T/EJsDGsrsNAGwWwKBTXvGHOBJAFJetsXRwCUAf9kISSRrxv1g9RVh2v/A/e6V+GGkNE8BKwqxhC/YwwM2hmNK2YhJAvNRYo5L7JMDlHs894Y4gwOszhtXA6iHAaqc+J2jp9b8fMVLuSkoVQA5jNdkMIyzAJgijhvzfEUB4fGPi+HAgwKWJ9S07Ah7A8ckMLYOaF8AyMiT7Rgr2P112Ytw/Px7AzlRg4nB+IMD9XTG4I6gEwOne4nBRCRvA8TuAotiDFcBjllG2nGa2vxIONOMc2xRA/grIEOylJ8ANHkYJCeoAwMLA+0knuBTAz+GTMJUnKED1oq1cCZElwMZevG6tYDXAW6BznpV44z+aifLjHeMawEZoG9SaKgbARKYZG2b+HsCEXpYmQiAlwFzazYgVHzHAjD3lt8PTxL+mhV8E+/I0wOQFIJ5nkC3AA8pgwuz/L8ADbZHouJECQO0sELGzJiTAADbvdTexL0BJ2FoZTH4QwAMRFH1qQyLAuvhL7Xo/KsCYLKVER2oQwPhc00cnog7A/n5IfPouIMBvTN95u2oLQMjg7zEa4RBAIs7x6ANSIMAWkiE8uzEUwFakqsVz29O/ISRS0ytlFkCADmOL/EAjQKZnakNM3ijABCHJGhAWGMAcbVvHmWAWwEpqsYV1CCTAWvT7dEW1IkCoMRqyF2oCQJRLmOvvShHAnL8YM+xJJsAG2xMI10cVwIMrzBE5pCjAirNAR2heGsCDwvFc9SsqwIKx/geUITTAbareq+RdKMAKAbIu9EgnwKVgtRYW6SNA1R/yC4uuKsBvj5stwtMRQGTVc0OzyhLAR0RSjd/TJMALYABWqCMowIqC03WgP+I/vyppWfsILsDWpUfAHnwgwJ4TUA8YvQVAAh8LEHB1GcDY+AFVqmL0v/UNXVXKgwdAJYihJYpaKsDHSux/pxwzwBKmnQcAATHAo0iJOoOfLcBy1GNgkQEQQAcyabtd/DDAusa2frTs5j97SiaaQqIwwCC6qm7I3yNA35r5tLv2I8BQqRQnWRokwN/UuTpGFR7AAweviA5dFsBncrAXmF8lwGGkrBMqYSvAYDSXjbc7EsDx8YbHQ5gIwMZtl/2UDx3Aj7tlueKyBEBVW51zaz4nwPLhgj1SfxPApttBSO+IKcAScya3i7gIwCvMbyLttt8/w0tHChCTIUDQ/f6RayYawL72LI6gxfW/CRuii3ttF8C/zYH8z0EiwDwHIhIlASdAAP2mhvQtIMAnpor0djEwQN6ucnqpZiXA8HquR2g14L/+lJRm4kUUQK5VLz1hchTAffsYGN4EFUAcrF9dQoElwFcUi6xYeBDAgFBPqZWeGMAj2cJki1Hiv7DVcEK97ey/xLtx/6PlFcACMUjE1O3+Pzs1SFg/oxLAjUWqWUbqE8AmUuIPMyrkv6tdcaGZ5SPAkY22rZetMsBBfVYxtFIuwM9hFuRJciTA4lmVZO8wIsCySOgmiSIdwMvdpHPOZBLAm2pE4W+aKsDLH5Ch+FYswLbYQ4E+fS3ATi5OW7+iIEAYNgS5Lx4xwNYIRE+EpyZAbADyFEGCJUDFKzyQWS8awAxZSEN3Vw1AqwpXE4XTKsCA+yQANOLyP9QTIRlFKizAU1kACRXyMMAZ3bhxUHAawJKes+9JSAnAQwbfK6iBMsCwuHx3jksgwG7qF5IRjBzAg3bS/I28H8DH69J3ri3kPwnvLNv3HhrAeeRISktkDsBiq/BofiUjwCucDA6MBzLAlvCUBX52D8Dk88nuStcewBCrEa/QEzHAXF0kltIRMMAmk8UR0+sfwAKaityBntC/Sp3ft8EAH8BHBgQ3o8wuwGjXBfwKdfg/J1N/+FxBJsDsMOIBST8ewN7mncc2cR3Adr1ZeaE+FMC65mIl+34bwP0S/eImmi7A+XWq99sCGsBEVsoB7O8MQOyFmYvS/CDA8q8R5RrXLMBzC/dET0wIwIAjVxKArxvAPRHP6qQAKMBD+Vda0mYGQE1iIUJgoAjAibsq7xSEGsBK8pNN56AnwIOBMiBHoynABjlNv+lNMcAju5m6E7gFQA2+3iPjVC3AMHNE8oJyB8BSwIKUm0MFQH7NkZQg6SLApDC+1cdrGcDUM4PNetACQCoP12wg/jDAcAn0ynp16b+lunWKPbgDwFTcSGpyYI2/+l5YIuvi2D/rczJKwvkhwGYttdHiYeA//bbG0EMY5j/fM93kJAsVwMGxJcw5ZxbAdTU5RSPLIEAH+9mnvw8RQAZGkt7XZTTA+uCq/fERAEDJbNEvh0MlwJexSBX/0iDAdzfosGqTI8DcHrfmMbULwGaETQUyeB/AF/kIyLTvA8CCKCLuyfQrwBFQazYXwzDANxB/GxQQJUCXa1tqMPYKwGzsuDws8wPAq31T7P87LsBNxQNmkIHbP6grlCvEejLA+Daoul8fFMBV9GAeRG4uwHBUiYuyNCLAAt+xqZ8/MMCnUR0ON9cTwDWyN0MshijAgJbO+CsQ4r+HCdxVsEklwDLRMRYMICjAucanUNnH0b/xvywTBxz0P57JwVtSKRvAj0YImghnHMAGBdhWai8hwE3ZK2mJfvu/TLwlIiLwK8AD3TOnyp4HQObidZ88M9G/xA7DXhXVA0BCzeJCW/zqPwxLPlFXaCfAzrx3UWPsJcBgFaiFlUsiQEMXNnErJjHAgB4zOKbgjr/VjPSIb1T3P9qufJBFtQFAmWhqeDG9EMAQYbOyN8sswAhzbEeF4BnAIOfWxcIfGsDwRJDFkGUkwEc3K1tw8+m/KpLpsd1PLsDOIS+ge9oawEVijNIuDjDAFgDSVP4bIcA8Qn+j6aEBQORPeedHBB3AiXUjdQ+JJUCBmnHcII0jwH1otYQqkwpAz1ikw2JPAUBs5PeKoosmwHD0o1eiaCTAQ6pNalS97T/wtvoAu73pvyr6d0s4+SnAxToU74PZNMCbpc77rhgywKOPTHlEyyDAxYndMVrUF8Acp7r5y+IfwJmt+Qi1IhXAwvN43SJcGcDq4wxMV47lv09WkAohevw/L3mliOVMFsAeu7dVAq4mwHS1gmW8IyZAFwSXsXzQI8DbSeSRgMUiwLUJ5z7fvTDAyxQSVctmE8ArIYR9csfaPzSlJ8/QixrA9kMQxReaK8DA4k795OP1P0HtMzOsoiXA6ngUw3WcF8DAFfXLyQYGQNbRv0uKaPc/rdthbTOYIMBfxaK41ZYywP6DJP5sJSfAvDPibRkyBEBSujE5TPQpQPToGLx/y+6/pFFOQRRXLEAeqAncF5clQFrlLE0SjyXAGAVzlVun8D/Q5huyGXsxwLIDrOgOIiXAz+CjloLlBECgbX9VAYsnwN27GeZ4lARA5E8mxgxHAkApCK47rLIJQGrMK2n60CjAL3KzRWjJ8r9ETlca5yAowE73Zm1Nz/8/YzqJLxiIKsA=\",\"dtype\":\"float64\",\"shape\":[1000]},\"x2\":{\"__ndarray__\":\"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\",\"dtype\":\"float64\",\"shape\":[1000]}}},\"id\":\"4d798858-9a55-4570-9513-998123f56688\",\"type\":\"ColumnDataSource\"},{\"attributes\":{\"source\":{\"id\":\"4d798858-9a55-4570-9513-998123f56688\",\"type\":\"ColumnDataSource\"}},\"id\":\"e261903f-f842-4f1d-85fd-462271e51c6e\",\"type\":\"CDSView\"},{\"attributes\":{},\"id\":\"6bbe4b1e-86ef-4fea-b9a9-55cef167ed66\",\"type\":\"BasicTickFormatter\"},{\"attributes\":{\"plot\":null,\"text\":\"word2vec T-SNE for most common words\"},\"id\":\"0ff5f372-4d50-4a10-9c12-ea5afaa1b402\",\"type\":\"Title\"}],\"root_ids\":[\"2e554ac6-e242-4a77-8d75-14c485290172\"]},\"title\":\"Bokeh Application\",\"version\":\"0.12.13\"}};\n",
       "  var render_items = [{\"docid\":\"f0c4f05e-0b6b-4a5f-a9cd-9094f9beabf8\",\"elementid\":\"127fa09f-c41c-46f3-8054-2d6f25dc44dd\",\"modelid\":\"2e554ac6-e242-4a77-8d75-14c485290172\"}];\n",
       "  root.Bokeh.embed.embed_items_notebook(docs_json, render_items);\n",
       "\n",
       "  }\n",
       "  if (root.Bokeh !== undefined) {\n",
       "    embed_document(root);\n",
       "  } else {\n",
       "    var attempts = 0;\n",
       "    var timer = setInterval(function(root) {\n",
       "      if (root.Bokeh !== undefined) {\n",
       "        embed_document(root);\n",
       "        clearInterval(timer);\n",
       "      }\n",
       "      attempts++;\n",
       "      if (attempts > 100) {\n",
       "        console.log(\"Bokeh: ERROR: Unable to run BokehJS code because BokehJS library is missing\")\n",
       "        clearInterval(timer);\n",
       "      }\n",
       "    }, 10, root)\n",
       "  }\n",
       "})(window);"
      ],
      "application/vnd.bokehjs_exec.v0+json": ""
     },
     "metadata": {
      "application/vnd.bokehjs_exec.v0+json": {
       "id": "2e554ac6-e242-4a77-8d75-14c485290172"
      }
     },
     "output_type": "display_data"
    }
   ],
   "source": [
    "p = figure(tools=\"pan,wheel_zoom,reset,save\",\n",
    "           toolbar_location=\"above\",\n",
    "           title=\"word2vec T-SNE for most common words\")\n",
    "\n",
    "source = ColumnDataSource(data=dict(x1=words_top_ted_tsne[:,0],\n",
    "                                    x2=words_top_ted_tsne[:,1],\n",
    "                                    names=words_top_ted))\n",
    "\n",
    "p.scatter(x=\"x1\", y=\"x2\", size=8, source=source)\n",
    "\n",
    "labels = LabelSet(x=\"x1\", y=\"x2\", text=\"names\", y_offset=6,\n",
    "                  text_font_size=\"8pt\", text_color=\"#555555\",\n",
    "                  source=source, text_align='center')\n",
    "p.add_layout(labels)\n",
    "\n",
    "show(p)"
   ]
  },
  {
   "cell_type": "markdown",
   "metadata": {},
   "source": [
    "### Part 5: Wiki Learnt Representations"
   ]
  },
  {
   "cell_type": "markdown",
   "metadata": {},
   "source": [
    "Download dataset"
   ]
  },
  {
   "cell_type": "code",
   "execution_count": 62,
   "metadata": {
    "collapsed": true
   },
   "outputs": [],
   "source": [
    "if not os.path.isfile('wikitext-103-raw-v1.zip'):\n",
    "    urllib.request.urlretrieve(\"https://s3.amazonaws.com/research.metamind.io/wikitext/wikitext-103-raw-v1.zip\", filename=\"wikitext-103-raw-v1.zip\")"
   ]
  },
  {
   "cell_type": "code",
   "execution_count": 63,
   "metadata": {
    "collapsed": true
   },
   "outputs": [],
   "source": [
    "with zipfile.ZipFile('wikitext-103-raw-v1.zip', 'r') as z:\n",
    "    input_text = str(z.open('wikitext-103-raw/wiki.train.raw', 'r').read(), encoding='utf-8') # Thanks Robert Bastian"
   ]
  },
  {
   "cell_type": "markdown",
   "metadata": {},
   "source": [
    "Preprocess sentences (note that it's important to remove small sentences for performance)"
   ]
  },
  {
   "cell_type": "code",
   "execution_count": 64,
   "metadata": {
    "collapsed": true
   },
   "outputs": [],
   "source": [
    "sentences_wiki = []\n",
    "for line in input_text.split('\\n'):\n",
    "    s = [x for x in line.split('.') if x and len(x.split()) >= 5]\n",
    "    sentences_wiki.extend(s)\n",
    "    \n",
    "for s_i in range(len(sentences_wiki)):\n",
    "    sentences_wiki[s_i] = re.sub(\"[^a-z]\", \" \", sentences_wiki[s_i].lower())\n",
    "    sentences_wiki[s_i] = re.sub(r'\\([^)]*\\)', '', sentences_wiki[s_i])\n",
    "del input_text"
   ]
  },
  {
   "cell_type": "code",
   "execution_count": 65,
   "metadata": {},
   "outputs": [
    {
     "name": "stdout",
     "output_type": "stream",
     "text": [
      "4267112\n",
      "853422\n"
     ]
    }
   ],
   "source": [
    "# sample 1/5 of the data\n",
    "shuffle(sentences_wiki)\n",
    "print(len(sentences_wiki))\n",
    "sentences_wiki = sentences_wiki[:int(len(sentences_wiki)/5)]\n",
    "print(len(sentences_wiki))"
   ]
  },
  {
   "cell_type": "markdown",
   "metadata": {},
   "source": [
    "Now, repeat all the same steps that you performed above. You should be able to reuse essentially all the code."
   ]
  },
  {
   "cell_type": "code",
   "execution_count": 89,
   "metadata": {
    "collapsed": true
   },
   "outputs": [],
   "source": [
    "# ...\n",
    "tokenized_wiki = tokenize_sentences(sentences_wiki)\n",
    "c_wiki = counter_of_words(tokenized_wiki)\n",
    "counts_wiki_top1000 = [x[1] for x in c_wiki.most_common(1000)]\n",
    "words_top_wiki = [x[0] for x in c_wiki.most_common(1000)]"
   ]
  },
  {
   "cell_type": "code",
   "execution_count": 91,
   "metadata": {
    "collapsed": true
   },
   "outputs": [],
   "source": [
    "model_wiki = Word2Vec(tokenized_wiki, size=100, min_count=10)"
   ]
  },
  {
   "cell_type": "markdown",
   "metadata": {},
   "source": [
    "#### t-SNE visualization"
   ]
  },
  {
   "cell_type": "code",
   "execution_count": 92,
   "metadata": {
    "collapsed": true
   },
   "outputs": [],
   "source": [
    "# This assumes words_top_wiki is a list of strings, the top 1000 words\n",
    "words_top_vec_wiki = model_wiki[words_top_wiki]\n",
    "\n",
    "tsne = TSNE(n_components=2, random_state=0)\n",
    "words_top_wiki_tsne = tsne.fit_transform(words_top_vec_wiki)\n"
   ]
  },
  {
   "cell_type": "code",
   "execution_count": 93,
   "metadata": {},
   "outputs": [
    {
     "data": {
      "text/html": [
       "\n",
       "<div class=\"bk-root\">\n",
       "    <div class=\"bk-plotdiv\" id=\"014c27a8-4ea5-4972-95ac-4bc516b2663b\"></div>\n",
       "</div>"
      ]
     },
     "metadata": {},
     "output_type": "display_data"
    },
    {
     "data": {
      "application/javascript": [
       "(function(root) {\n",
       "  function embed_document(root) {\n",
       "    \n",
       "  var docs_json = {\"732ab925-d6ed-44b7-95b8-2a7a9f27189b\":{\"roots\":{\"references\":[{\"attributes\":{\"fill_alpha\":{\"value\":0.1},\"fill_color\":{\"value\":\"#1f77b4\"},\"line_alpha\":{\"value\":0.1},\"line_color\":{\"value\":\"#1f77b4\"},\"size\":{\"units\":\"screen\",\"value\":8},\"x\":{\"field\":\"x1\"},\"y\":{\"field\":\"x2\"}},\"id\":\"9642db91-d4d1-4e19-9fab-830e08dbab9e\",\"type\":\"Circle\"},{\"attributes\":{},\"id\":\"aca67308-4a3d-427f-8c03-d5b7e2fe5322\",\"type\":\"WheelZoomTool\"},{\"attributes\":{},\"id\":\"61c38a1e-5394-4318-a6c2-2d5e3f037fb6\",\"type\":\"BasicTickFormatter\"},{\"attributes\":{\"callback\":null},\"id\":\"9e2437d4-e645-4892-9ff1-e224b97f5cce\",\"type\":\"DataRange1d\"},{\"attributes\":{},\"id\":\"ec60a173-5bd8-4e18-898e-67c03e3459dc\",\"type\":\"ResetTool\"},{\"attributes\":{},\"id\":\"d9f72179-8170-4f57-bf3d-ee29a2ece742\",\"type\":\"LinearScale\"},{\"attributes\":{},\"id\":\"62f385d7-0db2-4e18-8432-622e71764611\",\"type\":\"LinearScale\"},{\"attributes\":{\"plot\":{\"id\":\"fa8e62c4-2c8e-4e53-8788-0b26aa100871\",\"subtype\":\"Figure\",\"type\":\"Plot\"},\"ticker\":{\"id\":\"b758a5cd-7bc3-4a77-91ff-406527e2e5b5\",\"type\":\"BasicTicker\"}},\"id\":\"f448666c-9ccc-4139-86eb-a749894e9c50\",\"type\":\"Grid\"},{\"attributes\":{\"formatter\":{\"id\":\"61c38a1e-5394-4318-a6c2-2d5e3f037fb6\",\"type\":\"BasicTickFormatter\"},\"plot\":{\"id\":\"fa8e62c4-2c8e-4e53-8788-0b26aa100871\",\"subtype\":\"Figure\",\"type\":\"Plot\"},\"ticker\":{\"id\":\"b758a5cd-7bc3-4a77-91ff-406527e2e5b5\",\"type\":\"BasicTicker\"}},\"id\":\"c131a63e-ef79-4224-a8c5-9c4e7b3050ba\",\"type\":\"LinearAxis\"},{\"attributes\":{},\"id\":\"b758a5cd-7bc3-4a77-91ff-406527e2e5b5\",\"type\":\"BasicTicker\"},{\"attributes\":{\"formatter\":{\"id\":\"32e68954-5948-471b-a888-53b0fd5d1a11\",\"type\":\"BasicTickFormatter\"},\"plot\":{\"id\":\"fa8e62c4-2c8e-4e53-8788-0b26aa100871\",\"subtype\":\"Figure\",\"type\":\"Plot\"},\"ticker\":{\"id\":\"a8f36612-90e0-4f68-8585-2c994fe9368c\",\"type\":\"BasicTicker\"}},\"id\":\"8752c9fe-f820-40cc-ba6e-2a216efee372\",\"type\":\"LinearAxis\"},{\"attributes\":{},\"id\":\"a8f36612-90e0-4f68-8585-2c994fe9368c\",\"type\":\"BasicTicker\"},{\"attributes\":{\"dimension\":1,\"plot\":{\"id\":\"fa8e62c4-2c8e-4e53-8788-0b26aa100871\",\"subtype\":\"Figure\",\"type\":\"Plot\"},\"ticker\":{\"id\":\"a8f36612-90e0-4f68-8585-2c994fe9368c\",\"type\":\"BasicTicker\"}},\"id\":\"aa5eae00-75ae-4902-a9ba-216427f22d11\",\"type\":\"Grid\"},{\"attributes\":{\"plot\":{\"id\":\"fa8e62c4-2c8e-4e53-8788-0b26aa100871\",\"subtype\":\"Figure\",\"type\":\"Plot\"},\"source\":{\"id\":\"588af520-6bc1-4ed0-b1eb-346c4f03a845\",\"type\":\"ColumnDataSource\"},\"text\":{\"field\":\"names\"},\"text_align\":\"center\",\"text_color\":{\"value\":\"#555555\"},\"text_font_size\":{\"value\":\"8pt\"},\"x\":{\"field\":\"x1\"},\"y\":{\"field\":\"x2\"},\"y_offset\":{\"value\":6}},\"id\":\"da08183a-1e74-4912-90ff-f03366720332\",\"type\":\"LabelSet\"},{\"attributes\":{\"below\":[{\"id\":\"c131a63e-ef79-4224-a8c5-9c4e7b3050ba\",\"type\":\"LinearAxis\"}],\"left\":[{\"id\":\"8752c9fe-f820-40cc-ba6e-2a216efee372\",\"type\":\"LinearAxis\"}],\"renderers\":[{\"id\":\"c131a63e-ef79-4224-a8c5-9c4e7b3050ba\",\"type\":\"LinearAxis\"},{\"id\":\"f448666c-9ccc-4139-86eb-a749894e9c50\",\"type\":\"Grid\"},{\"id\":\"8752c9fe-f820-40cc-ba6e-2a216efee372\",\"type\":\"LinearAxis\"},{\"id\":\"aa5eae00-75ae-4902-a9ba-216427f22d11\",\"type\":\"Grid\"},{\"id\":\"cd29a54f-0f64-437b-89f6-e1c6c8f986b9\",\"type\":\"GlyphRenderer\"},{\"id\":\"da08183a-1e74-4912-90ff-f03366720332\",\"type\":\"LabelSet\"}],\"title\":{\"id\":\"0da64bda-4441-4c07-9692-10893759b0aa\",\"type\":\"Title\"},\"toolbar\":{\"id\":\"f40232f1-50ea-46f5-b26c-865fe0dcfd96\",\"type\":\"Toolbar\"},\"toolbar_location\":\"above\",\"x_range\":{\"id\":\"0ad2dfb2-77d3-4d11-be36-ef58992e9109\",\"type\":\"DataRange1d\"},\"x_scale\":{\"id\":\"d9f72179-8170-4f57-bf3d-ee29a2ece742\",\"type\":\"LinearScale\"},\"y_range\":{\"id\":\"9e2437d4-e645-4892-9ff1-e224b97f5cce\",\"type\":\"DataRange1d\"},\"y_scale\":{\"id\":\"62f385d7-0db2-4e18-8432-622e71764611\",\"type\":\"LinearScale\"}},\"id\":\"fa8e62c4-2c8e-4e53-8788-0b26aa100871\",\"subtype\":\"Figure\",\"type\":\"Plot\"},{\"attributes\":{\"callback\":null,\"column_names\":[\"x1\",\"x2\",\"names\"],\"data\":{\"names\":[\"the\",\"of\",\"and\",\"in\",\"to\",\"a\",\"was\",\"s\",\"on\",\"as\",\"for\",\"that\",\"with\",\"by\",\"is\",\"his\",\"at\",\"he\",\"from\",\"it\",\"were\",\"an\",\"had\",\"which\",\"be\",\"this\",\"but\",\"are\",\"first\",\"not\",\"their\",\"after\",\"one\",\"her\",\"also\",\"its\",\"they\",\"two\",\"or\",\"have\",\"who\",\"has\",\"been\",\"new\",\"she\",\"when\",\"time\",\"during\",\"other\",\"would\",\"into\",\"all\",\"i\",\"more\",\"while\",\"over\",\"game\",\"him\",\"only\",\"later\",\"up\",\"most\",\"about\",\"three\",\"between\",\"out\",\"th\",\"than\",\"there\",\"some\",\"may\",\"film\",\"before\",\"year\",\"no\",\"made\",\"such\",\"second\",\"season\",\"where\",\"war\",\"world\",\"years\",\"however\",\"both\",\"used\",\"being\",\"then\",\"song\",\"through\",\"these\",\"them\",\"against\",\"series\",\"album\",\"m\",\"many\",\"team\",\"city\",\"became\",\"part\",\"four\",\"several\",\"north\",\"number\",\"including\",\"can\",\"well\",\"early\",\"united\",\"under\",\"state\",\"music\",\"day\",\"south\",\"episode\",\"so\",\"following\",\"said\",\"states\",\"american\",\"could\",\"known\",\"although\",\"did\",\"work\",\"began\",\"until\",\"t\",\"released\",\"because\",\"called\",\"like\",\"high\",\"people\",\"end\",\"british\",\"since\",\"around\",\"each\",\"long\",\"life\",\"september\",\"same\",\"found\",\"national\",\"best\",\"if\",\"us\",\"million\",\"west\",\"back\",\"another\",\"along\",\"show\",\"five\",\"km\",\"use\",\"took\",\"final\",\"august\",\"group\",\"off\",\"any\",\"you\",\"century\",\"area\",\"received\",\"october\",\"school\",\"john\",\"what\",\"due\",\"line\",\"will\",\"government\",\"system\",\"june\",\"single\",\"east\",\"march\",\"november\",\"july\",\"home\",\"games\",\"third\",\"general\",\"much\",\"large\",\"set\",\"april\",\"down\",\"major\",\"left\",\"based\",\"family\",\"we\",\"house\",\"history\",\"place\",\"york\",\"just\",\"road\",\"army\",\"included\",\"character\",\"december\",\"band\",\"company\",\"played\",\"king\",\"won\",\"now\",\"january\",\"six\",\"name\",\"wrote\",\"according\",\"led\",\"main\",\"death\",\"last\",\"times\",\"next\",\"battle\",\"near\",\"described\",\"video\",\"de\",\"air\",\"within\",\"own\",\"those\",\"d\",\"river\",\"release\",\"men\",\"make\",\"record\",\"st\",\"very\",\"late\",\"way\",\"named\",\"species\",\"league\",\"force\",\"old\",\"man\",\"great\",\"still\",\"public\",\"club\",\"even\",\"original\",\"top\",\"small\",\"production\",\"ship\",\"route\",\"again\",\"though\",\"u\",\"storm\",\"february\",\"held\",\"built\",\"days\",\"among\",\"play\",\"university\",\"german\",\"book\",\"service\",\"french\",\"having\",\"further\",\"division\",\"side\",\"b\",\"story\",\"do\",\"power\",\"match\",\"role\",\"white\",\"order\",\"members\",\"water\",\"h\",\"career\",\"player\",\"former\",\"park\",\"often\",\"point\",\"came\",\"without\",\"black\",\"despite\",\"continued\",\"local\",\"town\",\"party\",\"england\",\"support\",\"considered\",\"half\",\"written\",\"take\",\"development\",\"few\",\"form\",\"become\",\"songs\",\"county\",\"island\",\"version\",\"period\",\"building\",\"c\",\"different\",\"moved\",\"president\",\"forces\",\"little\",\"military\",\"ii\",\"lost\",\"given\",\"country\",\"tropical\",\"court\",\"english\",\"international\",\"london\",\"short\",\"performance\",\"track\",\"re\",\"church\",\"lead\",\"never\",\"n\",\"street\",\"my\",\"gave\",\"similar\",\"published\",\"royal\",\"tour\",\"class\",\"attack\",\"using\",\"position\",\"went\",\"produced\",\"returned\",\"recorded\",\"include\",\"television\",\"live\",\"ships\",\"father\",\"stated\",\"land\",\"run\",\"how\",\"total\",\"western\",\"control\",\"week\",\"good\",\"highway\",\"star\",\"per\",\"making\",\"aircraft\",\"children\",\"fire\",\"right\",\"head\",\"less\",\"upon\",\"love\",\"once\",\"women\",\"throughout\",\"characters\",\"himself\",\"players\",\"central\",\"design\",\"young\",\"red\",\"australia\",\"me\",\"writing\",\"title\",\"remained\",\"night\",\"age\",\"months\",\"light\",\"across\",\"law\",\"return\",\"seven\",\"rock\",\"instead\",\"r\",\"previous\",\"developed\",\"ft\",\"james\",\"eight\",\"away\",\"e\",\"ten\",\"political\",\"southern\",\"station\",\"reported\",\"too\",\"hurricane\",\"office\",\"low\",\"died\",\"various\",\"sea\",\"areas\",\"eventually\",\"result\",\"announced\",\"win\",\"field\",\"created\",\"noted\",\"style\",\"miles\",\"son\",\"felt\",\"america\",\"seen\",\"race\",\"act\",\"center\",\"construction\",\"college\",\"william\",\"should\",\"followed\",\"together\",\"award\",\"japanese\",\"sent\",\"served\",\"full\",\"member\",\"northern\",\"performed\",\"campaign\",\"killed\",\"common\",\"chart\",\"reached\",\"level\",\"taken\",\"mm\",\"able\",\"action\",\"range\",\"born\",\"success\",\"originally\",\"works\",\"thought\",\"caused\",\"modern\",\"others\",\"appeared\",\"post\",\"playing\",\"located\",\"established\",\"front\",\"addition\",\"body\",\"project\",\"stage\",\"features\",\"site\",\"australian\",\"get\",\"football\",\"critics\",\"sold\",\"george\",\"decided\",\"rather\",\"fourth\",\"special\",\"points\",\"present\",\"added\",\"started\",\"completed\",\"championship\",\"formed\",\"go\",\"behind\",\"o\",\"saw\",\"almost\",\"popular\",\"f\",\"every\",\"see\",\"director\",\"bridge\",\"soon\",\"command\",\"eastern\",\"opened\",\"non\",\"open\",\"guns\",\"art\",\"close\",\"strong\",\"awards\",\"feet\",\"damage\",\"heavy\",\"case\",\"david\",\"important\",\"free\",\"mi\",\"worked\",\"fleet\",\"coast\",\"leading\",\"population\",\"initially\",\"l\",\"weeks\",\"hall\",\"mother\",\"event\",\"ground\",\"kingdom\",\"france\",\"recording\",\"provided\",\"wanted\",\"working\",\"ever\",\"towards\",\"region\",\"either\",\"union\",\"least\",\"help\",\"scene\",\"records\",\"training\",\"featured\",\"henry\",\"scored\",\"sound\",\"michael\",\"navy\",\"allowed\",\"generally\",\"brought\",\"average\",\"studio\",\"cup\",\"placed\",\"does\",\"wife\",\"joined\",\"opening\",\"magazine\",\"believed\",\"human\",\"list\",\"far\",\"put\",\"summer\",\"hours\",\"example\",\"victory\",\"europe\",\"hit\",\"co\",\"designed\",\"events\",\"mid\",\"troops\",\"robert\",\"runs\",\"nine\",\"washington\",\"council\",\"base\",\"start\",\"met\",\"european\",\"replaced\",\"involved\",\"possible\",\"police\",\"japan\",\"particularly\",\"successful\",\"media\",\"saying\",\"squadron\",\"minutes\",\"radio\",\"earlier\",\"x\",\"operation\",\"month\",\"association\",\"highest\",\"brown\",\"official\",\"rest\",\"crew\",\"films\",\"test\",\"society\",\"al\",\"must\",\"shot\",\"big\",\"review\",\"process\",\"significant\",\"finished\",\"ended\",\"beginning\",\"outside\",\"forced\",\"taking\",\"come\",\"mph\",\"increased\",\"cast\",\"reviews\",\"better\",\"captain\",\"turned\",\"largest\",\"change\",\"thomas\",\"available\",\"stone\",\"lower\",\"move\",\"social\",\"research\",\"community\",\"middle\",\"hill\",\"brother\",\"appearance\",\"additional\",\"section\",\"real\",\"goal\",\"relationship\",\"enough\",\"space\",\"cross\",\"san\",\"thus\",\"going\",\"rights\",\"ordered\",\"charles\",\"interest\",\"signed\",\"previously\",\"praised\",\"above\",\"units\",\"don\",\"future\",\"female\",\"chief\",\"passed\",\"directed\",\"lake\",\"round\",\"positive\",\"gold\",\"canada\",\"castle\",\"business\",\"g\",\"staff\",\"failed\",\"winds\",\"find\",\"elements\",\"parts\",\"program\",\"board\",\"california\",\"india\",\"told\",\"committee\",\"evidence\",\"term\",\"lines\",\"germany\",\"news\",\"spent\",\"asked\",\"musical\",\"type\",\"plan\",\"money\",\"overall\",\"district\",\"infantry\",\"gun\",\"hand\",\"prior\",\"critical\",\"paul\",\"attempt\",\"groups\",\"give\",\"cover\",\"v\",\"square\",\"required\",\"education\",\"itself\",\"sometimes\",\"already\",\"personal\",\"indian\",\"uk\",\"port\",\"grand\",\"reception\",\"whom\",\"whose\",\"our\",\"press\",\"battalion\",\"food\",\"loss\",\"plot\",\"effects\",\"election\",\"bill\",\"claimed\",\"study\",\"smith\",\"complete\",\"turn\",\"entire\",\"introduced\",\"limited\",\"background\",\"person\",\"quickly\",\"room\",\"estimated\",\"novel\",\"p\",\"idea\",\"past\",\"richard\",\"minister\",\"larger\",\"green\",\"decision\",\"services\",\"commander\",\"usually\",\"students\",\"ny\",\"woman\",\"response\",\"village\",\"movement\",\"flight\",\"pressure\",\"mark\",\"speed\",\"especially\",\"material\",\"fifth\",\"governor\",\"episodes\",\"peter\",\"anti\",\"department\",\"structure\",\"score\",\"surface\",\"carried\",\"shows\",\"latter\",\"arrived\",\"teams\",\"k\",\"virginia\",\"length\",\"bay\",\"tracks\",\"debut\",\"earth\",\"la\",\"cut\",\"britain\",\"voice\",\"remaining\",\"becoming\",\"centre\",\"car\",\"issue\",\"language\",\"finally\",\"empire\",\"queen\",\"changes\",\"operations\",\"percent\",\"shortly\",\"science\",\"stars\",\"god\",\"professional\",\"date\",\"writer\",\"running\",\"report\",\"leaving\",\"blue\",\"pop\",\"spanish\",\"daughter\",\"dark\",\"depression\",\"defeated\",\"self\",\"living\",\"industry\",\"view\",\"islands\",\"scenes\",\"los\",\"proposed\",\"lack\",\"naval\",\"leader\",\"entered\",\"civil\",\"nearly\",\"nature\",\"size\",\"approximately\",\"soviet\",\"nd\",\"suggested\",\"officer\",\"might\",\"network\",\"child\",\"immediately\",\"compared\",\"subsequently\",\"course\",\"hot\",\"winning\",\"commercial\",\"wide\",\"brigade\",\"producer\",\"lord\",\"experience\",\"associated\",\"helped\",\"done\",\"appointed\",\"cost\",\"natural\",\"current\",\"today\",\"influence\",\"manager\",\"fact\",\"married\",\"provide\",\"chicago\",\"plans\",\"longer\",\"upper\",\"higher\",\"awarded\",\"regular\",\"museum\",\"face\",\"create\",\"contract\",\"remains\",\"chinese\",\"destroyed\",\"supported\",\"fort\",\"trade\",\"intended\",\"railway\",\"planned\",\"jackson\",\"related\",\"ball\",\"friends\",\"yet\",\"health\",\"officers\",\"fans\",\"minor\",\"agreed\",\"guitar\",\"extended\",\"whether\",\"probably\",\"appear\",\"corps\",\"cm\",\"captured\",\"private\",\"federal\",\"numerous\",\"mostly\",\"singles\",\"billboard\",\"soldiers\",\"copies\",\"energy\",\"themselves\",\"ran\",\"unit\",\"books\",\"primary\",\"feature\",\"lyrics\",\"buildings\",\"countries\",\"something\",\"edward\",\"pass\",\"pacific\",\"changed\",\"friend\",\"really\",\"your\",\"johnson\",\"initial\",\"removed\",\"forward\",\"information\",\"fight\",\"effect\",\"problems\",\"status\",\"location\",\"christian\",\"key\",\"leave\",\"pre\",\"always\",\"florida\",\"includes\",\"regiment\",\"moving\",\"via\",\"got\",\"difficult\",\"edition\",\"suffered\",\"mixed\",\"j\",\"dead\",\"atlantic\",\"minute\",\"winter\",\"independent\",\"roman\",\"likely\"],\"x1\":{\"__ndarray__\":\"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\",\"dtype\":\"float64\",\"shape\":[1000]},\"x2\":{\"__ndarray__\":\"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\",\"dtype\":\"float64\",\"shape\":[1000]}}},\"id\":\"588af520-6bc1-4ed0-b1eb-346c4f03a845\",\"type\":\"ColumnDataSource\"},{\"attributes\":{\"source\":{\"id\":\"588af520-6bc1-4ed0-b1eb-346c4f03a845\",\"type\":\"ColumnDataSource\"}},\"id\":\"3219c52a-cf21-4826-a9c6-857a12629b13\",\"type\":\"CDSView\"},{\"attributes\":{\"fill_color\":{\"value\":\"#1f77b4\"},\"line_color\":{\"value\":\"#1f77b4\"},\"size\":{\"units\":\"screen\",\"value\":8},\"x\":{\"field\":\"x1\"},\"y\":{\"field\":\"x2\"}},\"id\":\"7e5a3976-5e94-4dde-b411-5b9ee2e9503f\",\"type\":\"Circle\"},{\"attributes\":{},\"id\":\"25bf8efe-db9a-4d7b-9434-a31a08529f1f\",\"type\":\"PanTool\"},{\"attributes\":{\"plot\":null,\"text\":\"word2vec T-SNE for most common words\"},\"id\":\"0da64bda-4441-4c07-9692-10893759b0aa\",\"type\":\"Title\"},{\"attributes\":{},\"id\":\"32e68954-5948-471b-a888-53b0fd5d1a11\",\"type\":\"BasicTickFormatter\"},{\"attributes\":{\"callback\":null},\"id\":\"0ad2dfb2-77d3-4d11-be36-ef58992e9109\",\"type\":\"DataRange1d\"},{\"attributes\":{},\"id\":\"15a1dc18-20ea-4688-9385-e3741bf131f0\",\"type\":\"SaveTool\"},{\"attributes\":{\"active_drag\":\"auto\",\"active_inspect\":\"auto\",\"active_scroll\":\"auto\",\"active_tap\":\"auto\",\"tools\":[{\"id\":\"25bf8efe-db9a-4d7b-9434-a31a08529f1f\",\"type\":\"PanTool\"},{\"id\":\"aca67308-4a3d-427f-8c03-d5b7e2fe5322\",\"type\":\"WheelZoomTool\"},{\"id\":\"ec60a173-5bd8-4e18-898e-67c03e3459dc\",\"type\":\"ResetTool\"},{\"id\":\"15a1dc18-20ea-4688-9385-e3741bf131f0\",\"type\":\"SaveTool\"}]},\"id\":\"f40232f1-50ea-46f5-b26c-865fe0dcfd96\",\"type\":\"Toolbar\"},{\"attributes\":{\"data_source\":{\"id\":\"588af520-6bc1-4ed0-b1eb-346c4f03a845\",\"type\":\"ColumnDataSource\"},\"glyph\":{\"id\":\"7e5a3976-5e94-4dde-b411-5b9ee2e9503f\",\"type\":\"Circle\"},\"hover_glyph\":null,\"muted_glyph\":null,\"nonselection_glyph\":{\"id\":\"9642db91-d4d1-4e19-9fab-830e08dbab9e\",\"type\":\"Circle\"},\"selection_glyph\":null,\"view\":{\"id\":\"3219c52a-cf21-4826-a9c6-857a12629b13\",\"type\":\"CDSView\"}},\"id\":\"cd29a54f-0f64-437b-89f6-e1c6c8f986b9\",\"type\":\"GlyphRenderer\"}],\"root_ids\":[\"fa8e62c4-2c8e-4e53-8788-0b26aa100871\"]},\"title\":\"Bokeh Application\",\"version\":\"0.12.13\"}};\n",
       "  var render_items = [{\"docid\":\"732ab925-d6ed-44b7-95b8-2a7a9f27189b\",\"elementid\":\"014c27a8-4ea5-4972-95ac-4bc516b2663b\",\"modelid\":\"fa8e62c4-2c8e-4e53-8788-0b26aa100871\"}];\n",
       "  root.Bokeh.embed.embed_items_notebook(docs_json, render_items);\n",
       "\n",
       "  }\n",
       "  if (root.Bokeh !== undefined) {\n",
       "    embed_document(root);\n",
       "  } else {\n",
       "    var attempts = 0;\n",
       "    var timer = setInterval(function(root) {\n",
       "      if (root.Bokeh !== undefined) {\n",
       "        embed_document(root);\n",
       "        clearInterval(timer);\n",
       "      }\n",
       "      attempts++;\n",
       "      if (attempts > 100) {\n",
       "        console.log(\"Bokeh: ERROR: Unable to run BokehJS code because BokehJS library is missing\")\n",
       "        clearInterval(timer);\n",
       "      }\n",
       "    }, 10, root)\n",
       "  }\n",
       "})(window);"
      ],
      "application/vnd.bokehjs_exec.v0+json": ""
     },
     "metadata": {
      "application/vnd.bokehjs_exec.v0+json": {
       "id": "fa8e62c4-2c8e-4e53-8788-0b26aa100871"
      }
     },
     "output_type": "display_data"
    }
   ],
   "source": [
    "p = figure(tools=\"pan,wheel_zoom,reset,save\",\n",
    "           toolbar_location=\"above\",\n",
    "           title=\"word2vec T-SNE for most common words\")\n",
    "\n",
    "source = ColumnDataSource(data=dict(x1=words_top_wiki_tsne[:,0],\n",
    "                                    x2=words_top_wiki_tsne[:,1],\n",
    "                                    names=words_top_wiki))\n",
    "\n",
    "p.scatter(x=\"x1\", y=\"x2\", size=8, source=source)\n",
    "\n",
    "labels = LabelSet(x=\"x1\", y=\"x2\", text=\"names\", y_offset=6,\n",
    "                  text_font_size=\"8pt\", text_color=\"#555555\",\n",
    "                  source=source, text_align='center')\n",
    "p.add_layout(labels)\n",
    "\n",
    "show(p)"
   ]
  },
  {
   "cell_type": "code",
   "execution_count": null,
   "metadata": {
    "collapsed": true
   },
   "outputs": [],
   "source": []
  }
 ],
 "metadata": {
  "anaconda-cloud": {},
  "kernelspec": {
   "display_name": "Python 3",
   "language": "python",
   "name": "python3"
  },
  "language_info": {
   "codemirror_mode": {
    "name": "ipython",
    "version": 3
   },
   "file_extension": ".py",
   "mimetype": "text/x-python",
   "name": "python",
   "nbconvert_exporter": "python",
   "pygments_lexer": "ipython3",
   "version": "3.6.3"
  },
  "latex_envs": {
   "LaTeX_envs_menu_present": true,
   "autocomplete": true,
   "bibliofile": "biblio.bib",
   "cite_by": "apalike",
   "current_citInitial": 1,
   "eqLabelWithNumbers": true,
   "eqNumInitial": 1,
   "hotkeys": {
    "equation": "Ctrl-E",
    "itemize": "Ctrl-I"
   },
   "labels_anchors": false,
   "latex_user_defs": false,
   "report_style_numbering": false,
   "user_envs_cfg": false
  },
  "nbTranslate": {
   "displayLangs": [
    "*"
   ],
   "hotkey": "alt-t",
   "langInMainMenu": true,
   "sourceLang": "en",
   "targetLang": "fr",
   "useGoogleTranslate": true
  },
  "varInspector": {
   "cols": {
    "lenName": 16,
    "lenType": 16,
    "lenVar": 40
   },
   "kernels_config": {
    "python": {
     "delete_cmd_postfix": "",
     "delete_cmd_prefix": "del ",
     "library": "var_list.py",
     "varRefreshCmd": "print(var_dic_list())"
    },
    "r": {
     "delete_cmd_postfix": ") ",
     "delete_cmd_prefix": "rm(",
     "library": "var_list.r",
     "varRefreshCmd": "cat(var_dic_list()) "
    }
   },
   "types_to_exclude": [
    "module",
    "function",
    "builtin_function_or_method",
    "instance",
    "_Feature"
   ],
   "window_display": false
  }
 },
 "nbformat": 4,
 "nbformat_minor": 1
}
